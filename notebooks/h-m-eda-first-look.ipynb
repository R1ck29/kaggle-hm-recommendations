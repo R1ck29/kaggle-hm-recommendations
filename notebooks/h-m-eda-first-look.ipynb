{
 "cells": [
  {
   "cell_type": "markdown",
   "id": "81a3a14a",
   "metadata": {
    "papermill": {
     "duration": 0.05001,
     "end_time": "2022-02-14T14:30:18.992805",
     "exception": false,
     "start_time": "2022-02-14T14:30:18.942795",
     "status": "completed"
    },
    "tags": []
   },
   "source": [
    "## **<span style=\"color:#023e8a;font-size:200%\"><center>EDA</center></span><span style=\"color:#023e8a;font-size:200%\"><center>Exploratory Data Analysis. H&M</center></span>**"
   ]
  },
  {
   "cell_type": "markdown",
   "id": "5e249b33",
   "metadata": {
    "papermill": {
     "duration": 0.049409,
     "end_time": "2022-02-14T14:30:19.092650",
     "exception": false,
     "start_time": "2022-02-14T14:30:19.043241",
     "status": "completed"
    },
    "tags": []
   },
   "source": [
    "# **<a id=\"Content\">Table of Content</a>**\n",
    "* [**<span>1. First steps</span>**](#First)  \n",
    "* [**<span>2. Articles</span>**](#Articles)  \n",
    "* [**<span>3. Customers</span>**](#Customers)  \n",
    "* [**<span>4. Transactions</span>**](#Transactions)  \n",
    "* [**<span>5. Images with description and price</span>**](#Images)  \n"
   ]
  },
  {
   "cell_type": "markdown",
   "id": "33396dab",
   "metadata": {
    "papermill": {
     "duration": 0.05086,
     "end_time": "2022-02-14T14:30:19.193329",
     "exception": false,
     "start_time": "2022-02-14T14:30:19.142469",
     "status": "completed"
    },
    "tags": []
   },
   "source": [
    "## **<span>Intro</span>**\n",
    "\n",
    "**<span>The competition is dedicated to the product recomendations (H&M)  </span>**\n",
    "\n",
    "**<span>Here we have different kinds of data that help us to get good recomendations: </span>**\n",
    "\n",
    "📸 `images` - images of every article_id\n",
    "\n",
    "🙋 `articles`  - detailed metadata of every article_id\n",
    "\n",
    "👔 `customers`  - detailed metadata of every customer_id\n",
    "\n",
    "🧾 `transactions_train`  - purchases with details"
   ]
  },
  {
   "cell_type": "markdown",
   "id": "f1628685",
   "metadata": {
    "papermill": {
     "duration": 0.049275,
     "end_time": "2022-02-14T14:30:19.292430",
     "exception": false,
     "start_time": "2022-02-14T14:30:19.243155",
     "status": "completed"
    },
    "tags": []
   },
   "source": [
    "## **<span id=\"First\" style=\"color:#023e8a;\">1. First steps</span>**"
   ]
  },
  {
   "cell_type": "markdown",
   "id": "18c9a852",
   "metadata": {
    "papermill": {
     "duration": 0.050062,
     "end_time": "2022-02-14T14:30:19.392808",
     "exception": false,
     "start_time": "2022-02-14T14:30:19.342746",
     "status": "completed"
    },
    "tags": []
   },
   "source": [
    "[**<span style=\"color:#FEF1FE;background-color:#023e8a;border-radius: 5px;padding: 2px\">Go to Table of Content</span>**](#Content)"
   ]
  },
  {
   "cell_type": "code",
   "execution_count": 43,
   "id": "23531fbf",
   "metadata": {
    "execution": {
     "iopub.execute_input": "2022-02-14T14:30:19.598745Z",
     "iopub.status.busy": "2022-02-14T14:30:19.596939Z",
     "iopub.status.idle": "2022-02-14T14:30:20.744577Z",
     "shell.execute_reply": "2022-02-14T14:30:20.743403Z",
     "shell.execute_reply.started": "2022-02-14T13:43:10.023295Z"
    },
    "papermill": {
     "duration": 1.202191,
     "end_time": "2022-02-14T14:30:20.744764",
     "exception": false,
     "start_time": "2022-02-14T14:30:19.542573",
     "status": "completed"
    },
    "tags": []
   },
   "outputs": [],
   "source": [
    "import numpy as np\n",
    "import pandas as pd\n",
    "import seaborn as sns\n",
    "from matplotlib import pyplot as plt\n",
    "from tqdm.notebook import tqdm\n",
    "from datetime import datetime"
   ]
  },
  {
   "cell_type": "code",
   "execution_count": 2,
   "id": "7a31d818",
   "metadata": {
    "execution": {
     "iopub.execute_input": "2022-02-14T14:30:20.850945Z",
     "iopub.status.busy": "2022-02-14T14:30:20.849926Z",
     "iopub.status.idle": "2022-02-14T14:31:44.808889Z",
     "shell.execute_reply": "2022-02-14T14:31:44.809522Z",
     "shell.execute_reply.started": "2022-02-14T13:43:11.098198Z"
    },
    "papermill": {
     "duration": 84.012776,
     "end_time": "2022-02-14T14:31:44.809731",
     "exception": false,
     "start_time": "2022-02-14T14:30:20.796955",
     "status": "completed"
    },
    "tags": []
   },
   "outputs": [],
   "source": [
    "articles = pd.read_csv(\"../input/h-and-m-personalized-fashion-recommendations/articles.csv\")\n",
    "customers = pd.read_csv(\"../input/h-and-m-personalized-fashion-recommendations/customers.csv\")\n",
    "transactions = pd.read_csv(\"../input/h-and-m-personalized-fashion-recommendations/transactions_train.csv\")"
   ]
  },
  {
   "cell_type": "markdown",
   "id": "a1856dfa",
   "metadata": {
    "papermill": {
     "duration": 0.049542,
     "end_time": "2022-02-14T14:31:45.011804",
     "exception": false,
     "start_time": "2022-02-14T14:31:44.962262",
     "status": "completed"
    },
    "tags": []
   },
   "source": [
    "## **<span id=\"Articles\">2. Articles</span>**"
   ]
  },
  {
   "cell_type": "markdown",
   "id": "2ab9a1cb",
   "metadata": {
    "papermill": {
     "duration": 0.049967,
     "end_time": "2022-02-14T14:31:45.112645",
     "exception": false,
     "start_time": "2022-02-14T14:31:45.062678",
     "status": "completed"
    },
    "tags": []
   },
   "source": [
    "[**<span style=\"color:#FEF1FE;background-color:#023e8a;border-radius: 5px;padding: 2px\">Go to Table of Content</span>**](#Content)"
   ]
  },
  {
   "cell_type": "markdown",
   "id": "1b9f9246",
   "metadata": {
    "papermill": {
     "duration": 0.049657,
     "end_time": "2022-02-14T14:31:45.212486",
     "exception": false,
     "start_time": "2022-02-14T14:31:45.162829",
     "status": "completed"
    },
    "tags": []
   },
   "source": [
    "**<span> This table contains all h&m articles with details such as a type of product, a color, a product group and other features.</span>**  \n",
    "**<span> Article data description: </span>**\n",
    "\n",
    "> `article_id` **<span >: A unique identifier of every article.</span>**  \n",
    "> `product_code`, `prod_name` **<span style=\"color:#023e8a;\">: A unique identifier of every product and its name (not the same).</span>**  \n",
    "> `product_type`, `product_type_name` **<span style=\"color:#023e8a;\">: The group of product_code and its name</span>**  \n",
    "> `graphical_appearance_no`, `graphical_appearance_name` **<span style=\"color:#023e8a;\">: The group of graphics and its name</span>**  \n",
    "> `colour_group_code`, `colour_group_name` **<span style=\"color:#023e8a;\">: The group of color and its name</span>**  \n",
    "> `graphical_appearance_no`, `graphical_appearance_name` **<span style=\"color:#023e8a;\">: The group of graphics and its name</span>**  \n",
    "> `perceived_colour_value_id`, `perceived_colour_value_name`, `perceived_colour_master_id`, `perceived_colour_master_name` **<span style=\"color:#023e8a;\">: The added color info</span>**  \n",
    "> `department_no`, `department_name`: **<span style=\"color:#023e8a;\">: A unique identifier of every dep and its name</span>**  \n",
    "> `index_code`, `index_name`: **<span style=\"color:#023e8a;\">: A unique identifier of every index and its name</span>**  \n",
    "> `index_group_no`, `index_group_name`: **<span style=\"color:#023e8a;\">: A group of indeces and its name</span>**  \n",
    "> `section_no`, `section_name`: **<span style=\"color:#023e8a;\">: A unique identifier of every section and its name</span>**  \n",
    "> `garment_group_no`, `garment_group_name`: **<span style=\"color:#023e8a;\">: A unique identifier of every garment and its name</span>**  \n",
    "> `detail_desc`: **<span style=\"color:#023e8a;\">: Details</span>**  "
   ]
  },
  {
   "cell_type": "code",
   "execution_count": 3,
   "id": "224f041a",
   "metadata": {
    "execution": {
     "iopub.execute_input": "2022-02-14T14:31:45.315958Z",
     "iopub.status.busy": "2022-02-14T14:31:45.314996Z",
     "iopub.status.idle": "2022-02-14T14:31:45.363177Z",
     "shell.execute_reply": "2022-02-14T14:31:45.363677Z",
     "shell.execute_reply.started": "2022-02-08T16:06:59.659038Z"
    },
    "papermill": {
     "duration": 0.101624,
     "end_time": "2022-02-14T14:31:45.363843",
     "exception": false,
     "start_time": "2022-02-14T14:31:45.262219",
     "status": "completed"
    },
    "tags": []
   },
   "outputs": [
    {
     "data": {
      "text/html": [
       "<div>\n",
       "<style scoped>\n",
       "    .dataframe tbody tr th:only-of-type {\n",
       "        vertical-align: middle;\n",
       "    }\n",
       "\n",
       "    .dataframe tbody tr th {\n",
       "        vertical-align: top;\n",
       "    }\n",
       "\n",
       "    .dataframe thead th {\n",
       "        text-align: right;\n",
       "    }\n",
       "</style>\n",
       "<table border=\"1\" class=\"dataframe\">\n",
       "  <thead>\n",
       "    <tr style=\"text-align: right;\">\n",
       "      <th></th>\n",
       "      <th>article_id</th>\n",
       "      <th>product_code</th>\n",
       "      <th>prod_name</th>\n",
       "      <th>product_type_no</th>\n",
       "      <th>product_type_name</th>\n",
       "      <th>product_group_name</th>\n",
       "      <th>graphical_appearance_no</th>\n",
       "      <th>graphical_appearance_name</th>\n",
       "      <th>colour_group_code</th>\n",
       "      <th>colour_group_name</th>\n",
       "      <th>...</th>\n",
       "      <th>department_name</th>\n",
       "      <th>index_code</th>\n",
       "      <th>index_name</th>\n",
       "      <th>index_group_no</th>\n",
       "      <th>index_group_name</th>\n",
       "      <th>section_no</th>\n",
       "      <th>section_name</th>\n",
       "      <th>garment_group_no</th>\n",
       "      <th>garment_group_name</th>\n",
       "      <th>detail_desc</th>\n",
       "    </tr>\n",
       "  </thead>\n",
       "  <tbody>\n",
       "    <tr>\n",
       "      <th>0</th>\n",
       "      <td>108775015</td>\n",
       "      <td>108775</td>\n",
       "      <td>Strap top</td>\n",
       "      <td>253</td>\n",
       "      <td>Vest top</td>\n",
       "      <td>Garment Upper body</td>\n",
       "      <td>1010016</td>\n",
       "      <td>Solid</td>\n",
       "      <td>9</td>\n",
       "      <td>Black</td>\n",
       "      <td>...</td>\n",
       "      <td>Jersey Basic</td>\n",
       "      <td>A</td>\n",
       "      <td>Ladieswear</td>\n",
       "      <td>1</td>\n",
       "      <td>Ladieswear</td>\n",
       "      <td>16</td>\n",
       "      <td>Womens Everyday Basics</td>\n",
       "      <td>1002</td>\n",
       "      <td>Jersey Basic</td>\n",
       "      <td>Jersey top with narrow shoulder straps.</td>\n",
       "    </tr>\n",
       "    <tr>\n",
       "      <th>1</th>\n",
       "      <td>108775044</td>\n",
       "      <td>108775</td>\n",
       "      <td>Strap top</td>\n",
       "      <td>253</td>\n",
       "      <td>Vest top</td>\n",
       "      <td>Garment Upper body</td>\n",
       "      <td>1010016</td>\n",
       "      <td>Solid</td>\n",
       "      <td>10</td>\n",
       "      <td>White</td>\n",
       "      <td>...</td>\n",
       "      <td>Jersey Basic</td>\n",
       "      <td>A</td>\n",
       "      <td>Ladieswear</td>\n",
       "      <td>1</td>\n",
       "      <td>Ladieswear</td>\n",
       "      <td>16</td>\n",
       "      <td>Womens Everyday Basics</td>\n",
       "      <td>1002</td>\n",
       "      <td>Jersey Basic</td>\n",
       "      <td>Jersey top with narrow shoulder straps.</td>\n",
       "    </tr>\n",
       "    <tr>\n",
       "      <th>2</th>\n",
       "      <td>108775051</td>\n",
       "      <td>108775</td>\n",
       "      <td>Strap top (1)</td>\n",
       "      <td>253</td>\n",
       "      <td>Vest top</td>\n",
       "      <td>Garment Upper body</td>\n",
       "      <td>1010017</td>\n",
       "      <td>Stripe</td>\n",
       "      <td>11</td>\n",
       "      <td>Off White</td>\n",
       "      <td>...</td>\n",
       "      <td>Jersey Basic</td>\n",
       "      <td>A</td>\n",
       "      <td>Ladieswear</td>\n",
       "      <td>1</td>\n",
       "      <td>Ladieswear</td>\n",
       "      <td>16</td>\n",
       "      <td>Womens Everyday Basics</td>\n",
       "      <td>1002</td>\n",
       "      <td>Jersey Basic</td>\n",
       "      <td>Jersey top with narrow shoulder straps.</td>\n",
       "    </tr>\n",
       "    <tr>\n",
       "      <th>3</th>\n",
       "      <td>110065001</td>\n",
       "      <td>110065</td>\n",
       "      <td>OP T-shirt (Idro)</td>\n",
       "      <td>306</td>\n",
       "      <td>Bra</td>\n",
       "      <td>Underwear</td>\n",
       "      <td>1010016</td>\n",
       "      <td>Solid</td>\n",
       "      <td>9</td>\n",
       "      <td>Black</td>\n",
       "      <td>...</td>\n",
       "      <td>Clean Lingerie</td>\n",
       "      <td>B</td>\n",
       "      <td>Lingeries/Tights</td>\n",
       "      <td>1</td>\n",
       "      <td>Ladieswear</td>\n",
       "      <td>61</td>\n",
       "      <td>Womens Lingerie</td>\n",
       "      <td>1017</td>\n",
       "      <td>Under-, Nightwear</td>\n",
       "      <td>Microfibre T-shirt bra with underwired, moulde...</td>\n",
       "    </tr>\n",
       "    <tr>\n",
       "      <th>4</th>\n",
       "      <td>110065002</td>\n",
       "      <td>110065</td>\n",
       "      <td>OP T-shirt (Idro)</td>\n",
       "      <td>306</td>\n",
       "      <td>Bra</td>\n",
       "      <td>Underwear</td>\n",
       "      <td>1010016</td>\n",
       "      <td>Solid</td>\n",
       "      <td>10</td>\n",
       "      <td>White</td>\n",
       "      <td>...</td>\n",
       "      <td>Clean Lingerie</td>\n",
       "      <td>B</td>\n",
       "      <td>Lingeries/Tights</td>\n",
       "      <td>1</td>\n",
       "      <td>Ladieswear</td>\n",
       "      <td>61</td>\n",
       "      <td>Womens Lingerie</td>\n",
       "      <td>1017</td>\n",
       "      <td>Under-, Nightwear</td>\n",
       "      <td>Microfibre T-shirt bra with underwired, moulde...</td>\n",
       "    </tr>\n",
       "  </tbody>\n",
       "</table>\n",
       "<p>5 rows × 25 columns</p>\n",
       "</div>"
      ],
      "text/plain": [
       "   article_id  product_code          prod_name  product_type_no  \\\n",
       "0   108775015        108775          Strap top              253   \n",
       "1   108775044        108775          Strap top              253   \n",
       "2   108775051        108775      Strap top (1)              253   \n",
       "3   110065001        110065  OP T-shirt (Idro)              306   \n",
       "4   110065002        110065  OP T-shirt (Idro)              306   \n",
       "\n",
       "  product_type_name  product_group_name  graphical_appearance_no  \\\n",
       "0          Vest top  Garment Upper body                  1010016   \n",
       "1          Vest top  Garment Upper body                  1010016   \n",
       "2          Vest top  Garment Upper body                  1010017   \n",
       "3               Bra           Underwear                  1010016   \n",
       "4               Bra           Underwear                  1010016   \n",
       "\n",
       "  graphical_appearance_name  colour_group_code colour_group_name  ...  \\\n",
       "0                     Solid                  9             Black  ...   \n",
       "1                     Solid                 10             White  ...   \n",
       "2                    Stripe                 11         Off White  ...   \n",
       "3                     Solid                  9             Black  ...   \n",
       "4                     Solid                 10             White  ...   \n",
       "\n",
       "   department_name index_code        index_name index_group_no  \\\n",
       "0     Jersey Basic          A        Ladieswear              1   \n",
       "1     Jersey Basic          A        Ladieswear              1   \n",
       "2     Jersey Basic          A        Ladieswear              1   \n",
       "3   Clean Lingerie          B  Lingeries/Tights              1   \n",
       "4   Clean Lingerie          B  Lingeries/Tights              1   \n",
       "\n",
       "   index_group_name section_no            section_name garment_group_no  \\\n",
       "0        Ladieswear         16  Womens Everyday Basics             1002   \n",
       "1        Ladieswear         16  Womens Everyday Basics             1002   \n",
       "2        Ladieswear         16  Womens Everyday Basics             1002   \n",
       "3        Ladieswear         61         Womens Lingerie             1017   \n",
       "4        Ladieswear         61         Womens Lingerie             1017   \n",
       "\n",
       "   garment_group_name                                        detail_desc  \n",
       "0        Jersey Basic            Jersey top with narrow shoulder straps.  \n",
       "1        Jersey Basic            Jersey top with narrow shoulder straps.  \n",
       "2        Jersey Basic            Jersey top with narrow shoulder straps.  \n",
       "3   Under-, Nightwear  Microfibre T-shirt bra with underwired, moulde...  \n",
       "4   Under-, Nightwear  Microfibre T-shirt bra with underwired, moulde...  \n",
       "\n",
       "[5 rows x 25 columns]"
      ]
     },
     "execution_count": 3,
     "metadata": {},
     "output_type": "execute_result"
    }
   ],
   "source": [
    "articles.head()"
   ]
  },
  {
   "cell_type": "markdown",
   "id": "6195c4c8",
   "metadata": {
    "papermill": {
     "duration": 0.051055,
     "end_time": "2022-02-14T14:31:45.467367",
     "exception": false,
     "start_time": "2022-02-14T14:31:45.416312",
     "status": "completed"
    },
    "tags": []
   },
   "source": [
    "**<span>Ladieswear accounts for a significant part of all dresses. Sportswear has the least portion.</span>**"
   ]
  },
  {
   "cell_type": "code",
   "execution_count": 4,
   "id": "abe87cb6",
   "metadata": {
    "execution": {
     "iopub.execute_input": "2022-02-14T14:31:45.579576Z",
     "iopub.status.busy": "2022-02-14T14:31:45.578881Z",
     "iopub.status.idle": "2022-02-14T14:31:46.018296Z",
     "shell.execute_reply": "2022-02-14T14:31:46.017437Z",
     "shell.execute_reply.started": "2022-02-10T15:38:21.862125Z"
    },
    "jupyter": {
     "source_hidden": true
    },
    "papermill": {
     "duration": 0.50024,
     "end_time": "2022-02-14T14:31:46.018514",
     "exception": false,
     "start_time": "2022-02-14T14:31:45.518274",
     "status": "completed"
    },
    "tags": []
   },
   "outputs": [
    {
     "data": {
      "image/png": "[encoded data removed]",
      "text/plain": [
       "<Figure size 1080x504 with 1 Axes>"
      ]
     },
     "metadata": {
      "needs_background": "light"
     },
     "output_type": "display_data"
    }
   ],
   "source": [
    "f, ax = plt.subplots(figsize=(15, 7))\n",
    "ax = sns.histplot(data=articles, y='index_name', color='orange')\n",
    "ax.set_xlabel('count by index name')\n",
    "ax.set_ylabel('index name')\n",
    "ax.set_title('Distribution of index name')\n",
    "plt.show()"
   ]
  },
  {
   "cell_type": "markdown",
   "id": "8999e02a",
   "metadata": {
    "papermill": {
     "duration": 0.051741,
     "end_time": "2022-02-14T14:31:46.128886",
     "exception": false,
     "start_time": "2022-02-14T14:31:46.077145",
     "status": "completed"
    },
    "tags": []
   },
   "source": [
    "**<span> The garments grouped by index: Jersey fancy is the most frequent garment, especially for women and children. The next by number is accessories, many various accessories with low price.</span>**"
   ]
  },
  {
   "cell_type": "code",
   "execution_count": 5,
   "id": "6a97caae",
   "metadata": {
    "execution": {
     "iopub.execute_input": "2022-02-14T14:31:46.251979Z",
     "iopub.status.busy": "2022-02-14T14:31:46.250925Z",
     "iopub.status.idle": "2022-02-14T14:31:47.156103Z",
     "shell.execute_reply": "2022-02-14T14:31:47.155532Z",
     "shell.execute_reply.started": "2022-02-10T15:39:24.806059Z"
    },
    "jupyter": {
     "source_hidden": true
    },
    "papermill": {
     "duration": 0.975115,
     "end_time": "2022-02-14T14:31:47.156242",
     "exception": false,
     "start_time": "2022-02-14T14:31:46.181127",
     "status": "completed"
    },
    "tags": []
   },
   "outputs": [
    {
     "data": {
      "image/png": "[encoded data removed]",
      "text/plain": [
       "<Figure size 1080x504 with 1 Axes>"
      ]
     },
     "metadata": {
      "needs_background": "light"
     },
     "output_type": "display_data"
    }
   ],
   "source": [
    "f, ax = plt.subplots(figsize=(15, 7))\n",
    "ax = sns.histplot(data=articles, y='garment_group_name', color='orange', hue='index_group_name', multiple=\"stack\")\n",
    "ax.set_xlabel('count by garment group')\n",
    "ax.set_ylabel('garment group')\n",
    "plt.show()"
   ]
  },
  {
   "cell_type": "code",
   "execution_count": 6,
   "id": "d31f2d87",
   "metadata": {},
   "outputs": [
    {
     "data": {
      "text/html": [
       "<div>\n",
       "<style scoped>\n",
       "    .dataframe tbody tr th:only-of-type {\n",
       "        vertical-align: middle;\n",
       "    }\n",
       "\n",
       "    .dataframe tbody tr th {\n",
       "        vertical-align: top;\n",
       "    }\n",
       "\n",
       "    .dataframe thead th {\n",
       "        text-align: right;\n",
       "    }\n",
       "</style>\n",
       "<table border=\"1\" class=\"dataframe\">\n",
       "  <thead>\n",
       "    <tr style=\"text-align: right;\">\n",
       "      <th></th>\n",
       "      <th>article_id</th>\n",
       "      <th>product_code</th>\n",
       "      <th>prod_name</th>\n",
       "      <th>product_type_no</th>\n",
       "      <th>product_type_name</th>\n",
       "      <th>product_group_name</th>\n",
       "      <th>graphical_appearance_no</th>\n",
       "      <th>graphical_appearance_name</th>\n",
       "      <th>colour_group_code</th>\n",
       "      <th>colour_group_name</th>\n",
       "      <th>...</th>\n",
       "      <th>department_name</th>\n",
       "      <th>index_code</th>\n",
       "      <th>index_name</th>\n",
       "      <th>index_group_no</th>\n",
       "      <th>index_group_name</th>\n",
       "      <th>section_no</th>\n",
       "      <th>section_name</th>\n",
       "      <th>garment_group_no</th>\n",
       "      <th>garment_group_name</th>\n",
       "      <th>detail_desc</th>\n",
       "    </tr>\n",
       "  </thead>\n",
       "  <tbody>\n",
       "    <tr>\n",
       "      <th>0</th>\n",
       "      <td>108775015</td>\n",
       "      <td>108775</td>\n",
       "      <td>Strap top</td>\n",
       "      <td>253</td>\n",
       "      <td>Vest top</td>\n",
       "      <td>Garment Upper body</td>\n",
       "      <td>1010016</td>\n",
       "      <td>Solid</td>\n",
       "      <td>9</td>\n",
       "      <td>Black</td>\n",
       "      <td>...</td>\n",
       "      <td>Jersey Basic</td>\n",
       "      <td>A</td>\n",
       "      <td>Ladieswear</td>\n",
       "      <td>1</td>\n",
       "      <td>Ladieswear</td>\n",
       "      <td>16</td>\n",
       "      <td>Womens Everyday Basics</td>\n",
       "      <td>1002</td>\n",
       "      <td>Jersey Basic</td>\n",
       "      <td>Jersey top with narrow shoulder straps.</td>\n",
       "    </tr>\n",
       "    <tr>\n",
       "      <th>1</th>\n",
       "      <td>108775044</td>\n",
       "      <td>108775</td>\n",
       "      <td>Strap top</td>\n",
       "      <td>253</td>\n",
       "      <td>Vest top</td>\n",
       "      <td>Garment Upper body</td>\n",
       "      <td>1010016</td>\n",
       "      <td>Solid</td>\n",
       "      <td>10</td>\n",
       "      <td>White</td>\n",
       "      <td>...</td>\n",
       "      <td>Jersey Basic</td>\n",
       "      <td>A</td>\n",
       "      <td>Ladieswear</td>\n",
       "      <td>1</td>\n",
       "      <td>Ladieswear</td>\n",
       "      <td>16</td>\n",
       "      <td>Womens Everyday Basics</td>\n",
       "      <td>1002</td>\n",
       "      <td>Jersey Basic</td>\n",
       "      <td>Jersey top with narrow shoulder straps.</td>\n",
       "    </tr>\n",
       "    <tr>\n",
       "      <th>2</th>\n",
       "      <td>108775051</td>\n",
       "      <td>108775</td>\n",
       "      <td>Strap top (1)</td>\n",
       "      <td>253</td>\n",
       "      <td>Vest top</td>\n",
       "      <td>Garment Upper body</td>\n",
       "      <td>1010017</td>\n",
       "      <td>Stripe</td>\n",
       "      <td>11</td>\n",
       "      <td>Off White</td>\n",
       "      <td>...</td>\n",
       "      <td>Jersey Basic</td>\n",
       "      <td>A</td>\n",
       "      <td>Ladieswear</td>\n",
       "      <td>1</td>\n",
       "      <td>Ladieswear</td>\n",
       "      <td>16</td>\n",
       "      <td>Womens Everyday Basics</td>\n",
       "      <td>1002</td>\n",
       "      <td>Jersey Basic</td>\n",
       "      <td>Jersey top with narrow shoulder straps.</td>\n",
       "    </tr>\n",
       "    <tr>\n",
       "      <th>3</th>\n",
       "      <td>110065001</td>\n",
       "      <td>110065</td>\n",
       "      <td>OP T-shirt (Idro)</td>\n",
       "      <td>306</td>\n",
       "      <td>Bra</td>\n",
       "      <td>Underwear</td>\n",
       "      <td>1010016</td>\n",
       "      <td>Solid</td>\n",
       "      <td>9</td>\n",
       "      <td>Black</td>\n",
       "      <td>...</td>\n",
       "      <td>Clean Lingerie</td>\n",
       "      <td>B</td>\n",
       "      <td>Lingeries/Tights</td>\n",
       "      <td>1</td>\n",
       "      <td>Ladieswear</td>\n",
       "      <td>61</td>\n",
       "      <td>Womens Lingerie</td>\n",
       "      <td>1017</td>\n",
       "      <td>Under-, Nightwear</td>\n",
       "      <td>Microfibre T-shirt bra with underwired, moulde...</td>\n",
       "    </tr>\n",
       "    <tr>\n",
       "      <th>4</th>\n",
       "      <td>110065002</td>\n",
       "      <td>110065</td>\n",
       "      <td>OP T-shirt (Idro)</td>\n",
       "      <td>306</td>\n",
       "      <td>Bra</td>\n",
       "      <td>Underwear</td>\n",
       "      <td>1010016</td>\n",
       "      <td>Solid</td>\n",
       "      <td>10</td>\n",
       "      <td>White</td>\n",
       "      <td>...</td>\n",
       "      <td>Clean Lingerie</td>\n",
       "      <td>B</td>\n",
       "      <td>Lingeries/Tights</td>\n",
       "      <td>1</td>\n",
       "      <td>Ladieswear</td>\n",
       "      <td>61</td>\n",
       "      <td>Womens Lingerie</td>\n",
       "      <td>1017</td>\n",
       "      <td>Under-, Nightwear</td>\n",
       "      <td>Microfibre T-shirt bra with underwired, moulde...</td>\n",
       "    </tr>\n",
       "    <tr>\n",
       "      <th>...</th>\n",
       "      <td>...</td>\n",
       "      <td>...</td>\n",
       "      <td>...</td>\n",
       "      <td>...</td>\n",
       "      <td>...</td>\n",
       "      <td>...</td>\n",
       "      <td>...</td>\n",
       "      <td>...</td>\n",
       "      <td>...</td>\n",
       "      <td>...</td>\n",
       "      <td>...</td>\n",
       "      <td>...</td>\n",
       "      <td>...</td>\n",
       "      <td>...</td>\n",
       "      <td>...</td>\n",
       "      <td>...</td>\n",
       "      <td>...</td>\n",
       "      <td>...</td>\n",
       "      <td>...</td>\n",
       "      <td>...</td>\n",
       "      <td>...</td>\n",
       "    </tr>\n",
       "    <tr>\n",
       "      <th>105537</th>\n",
       "      <td>953450001</td>\n",
       "      <td>953450</td>\n",
       "      <td>5pk regular Placement1</td>\n",
       "      <td>302</td>\n",
       "      <td>Socks</td>\n",
       "      <td>Socks &amp; Tights</td>\n",
       "      <td>1010014</td>\n",
       "      <td>Placement print</td>\n",
       "      <td>9</td>\n",
       "      <td>Black</td>\n",
       "      <td>...</td>\n",
       "      <td>Socks Bin</td>\n",
       "      <td>F</td>\n",
       "      <td>Menswear</td>\n",
       "      <td>3</td>\n",
       "      <td>Menswear</td>\n",
       "      <td>26</td>\n",
       "      <td>Men Underwear</td>\n",
       "      <td>1021</td>\n",
       "      <td>Socks and Tights</td>\n",
       "      <td>Socks in a fine-knit cotton blend with a small...</td>\n",
       "    </tr>\n",
       "    <tr>\n",
       "      <th>105538</th>\n",
       "      <td>953763001</td>\n",
       "      <td>953763</td>\n",
       "      <td>SPORT Malaga tank</td>\n",
       "      <td>253</td>\n",
       "      <td>Vest top</td>\n",
       "      <td>Garment Upper body</td>\n",
       "      <td>1010016</td>\n",
       "      <td>Solid</td>\n",
       "      <td>9</td>\n",
       "      <td>Black</td>\n",
       "      <td>...</td>\n",
       "      <td>Jersey</td>\n",
       "      <td>A</td>\n",
       "      <td>Ladieswear</td>\n",
       "      <td>1</td>\n",
       "      <td>Ladieswear</td>\n",
       "      <td>2</td>\n",
       "      <td>H&amp;M+</td>\n",
       "      <td>1005</td>\n",
       "      <td>Jersey Fancy</td>\n",
       "      <td>Loose-fitting sports vest top in ribbed fast-d...</td>\n",
       "    </tr>\n",
       "    <tr>\n",
       "      <th>105539</th>\n",
       "      <td>956217002</td>\n",
       "      <td>956217</td>\n",
       "      <td>Cartwheel dress</td>\n",
       "      <td>265</td>\n",
       "      <td>Dress</td>\n",
       "      <td>Garment Full body</td>\n",
       "      <td>1010016</td>\n",
       "      <td>Solid</td>\n",
       "      <td>9</td>\n",
       "      <td>Black</td>\n",
       "      <td>...</td>\n",
       "      <td>Jersey</td>\n",
       "      <td>A</td>\n",
       "      <td>Ladieswear</td>\n",
       "      <td>1</td>\n",
       "      <td>Ladieswear</td>\n",
       "      <td>18</td>\n",
       "      <td>Womens Trend</td>\n",
       "      <td>1005</td>\n",
       "      <td>Jersey Fancy</td>\n",
       "      <td>Short, A-line dress in jersey with a round nec...</td>\n",
       "    </tr>\n",
       "    <tr>\n",
       "      <th>105540</th>\n",
       "      <td>957375001</td>\n",
       "      <td>957375</td>\n",
       "      <td>CLAIRE HAIR CLAW</td>\n",
       "      <td>72</td>\n",
       "      <td>Hair clip</td>\n",
       "      <td>Accessories</td>\n",
       "      <td>1010016</td>\n",
       "      <td>Solid</td>\n",
       "      <td>9</td>\n",
       "      <td>Black</td>\n",
       "      <td>...</td>\n",
       "      <td>Small Accessories</td>\n",
       "      <td>D</td>\n",
       "      <td>Divided</td>\n",
       "      <td>2</td>\n",
       "      <td>Divided</td>\n",
       "      <td>52</td>\n",
       "      <td>Divided Accessories</td>\n",
       "      <td>1019</td>\n",
       "      <td>Accessories</td>\n",
       "      <td>Large plastic hair claw.</td>\n",
       "    </tr>\n",
       "    <tr>\n",
       "      <th>105541</th>\n",
       "      <td>959461001</td>\n",
       "      <td>959461</td>\n",
       "      <td>Lounge dress</td>\n",
       "      <td>265</td>\n",
       "      <td>Dress</td>\n",
       "      <td>Garment Full body</td>\n",
       "      <td>1010016</td>\n",
       "      <td>Solid</td>\n",
       "      <td>11</td>\n",
       "      <td>Off White</td>\n",
       "      <td>...</td>\n",
       "      <td>Jersey</td>\n",
       "      <td>A</td>\n",
       "      <td>Ladieswear</td>\n",
       "      <td>1</td>\n",
       "      <td>Ladieswear</td>\n",
       "      <td>18</td>\n",
       "      <td>Womens Trend</td>\n",
       "      <td>1005</td>\n",
       "      <td>Jersey Fancy</td>\n",
       "      <td>Calf-length dress in ribbed jersey made from a...</td>\n",
       "    </tr>\n",
       "  </tbody>\n",
       "</table>\n",
       "<p>105542 rows × 25 columns</p>\n",
       "</div>"
      ],
      "text/plain": [
       "        article_id  product_code               prod_name  product_type_no  \\\n",
       "0        108775015        108775               Strap top              253   \n",
       "1        108775044        108775               Strap top              253   \n",
       "2        108775051        108775           Strap top (1)              253   \n",
       "3        110065001        110065       OP T-shirt (Idro)              306   \n",
       "4        110065002        110065       OP T-shirt (Idro)              306   \n",
       "...            ...           ...                     ...              ...   \n",
       "105537   953450001        953450  5pk regular Placement1              302   \n",
       "105538   953763001        953763       SPORT Malaga tank              253   \n",
       "105539   956217002        956217         Cartwheel dress              265   \n",
       "105540   957375001        957375        CLAIRE HAIR CLAW               72   \n",
       "105541   959461001        959461            Lounge dress              265   \n",
       "\n",
       "       product_type_name  product_group_name  graphical_appearance_no  \\\n",
       "0               Vest top  Garment Upper body                  1010016   \n",
       "1               Vest top  Garment Upper body                  1010016   \n",
       "2               Vest top  Garment Upper body                  1010017   \n",
       "3                    Bra           Underwear                  1010016   \n",
       "4                    Bra           Underwear                  1010016   \n",
       "...                  ...                 ...                      ...   \n",
       "105537             Socks      Socks & Tights                  1010014   \n",
       "105538          Vest top  Garment Upper body                  1010016   \n",
       "105539             Dress   Garment Full body                  1010016   \n",
       "105540         Hair clip         Accessories                  1010016   \n",
       "105541             Dress   Garment Full body                  1010016   \n",
       "\n",
       "       graphical_appearance_name  colour_group_code colour_group_name  ...  \\\n",
       "0                          Solid                  9             Black  ...   \n",
       "1                          Solid                 10             White  ...   \n",
       "2                         Stripe                 11         Off White  ...   \n",
       "3                          Solid                  9             Black  ...   \n",
       "4                          Solid                 10             White  ...   \n",
       "...                          ...                ...               ...  ...   \n",
       "105537           Placement print                  9             Black  ...   \n",
       "105538                     Solid                  9             Black  ...   \n",
       "105539                     Solid                  9             Black  ...   \n",
       "105540                     Solid                  9             Black  ...   \n",
       "105541                     Solid                 11         Off White  ...   \n",
       "\n",
       "          department_name index_code        index_name index_group_no  \\\n",
       "0            Jersey Basic          A        Ladieswear              1   \n",
       "1            Jersey Basic          A        Ladieswear              1   \n",
       "2            Jersey Basic          A        Ladieswear              1   \n",
       "3          Clean Lingerie          B  Lingeries/Tights              1   \n",
       "4          Clean Lingerie          B  Lingeries/Tights              1   \n",
       "...                   ...        ...               ...            ...   \n",
       "105537          Socks Bin          F          Menswear              3   \n",
       "105538             Jersey          A        Ladieswear              1   \n",
       "105539             Jersey          A        Ladieswear              1   \n",
       "105540  Small Accessories          D           Divided              2   \n",
       "105541             Jersey          A        Ladieswear              1   \n",
       "\n",
       "        index_group_name section_no            section_name garment_group_no  \\\n",
       "0             Ladieswear         16  Womens Everyday Basics             1002   \n",
       "1             Ladieswear         16  Womens Everyday Basics             1002   \n",
       "2             Ladieswear         16  Womens Everyday Basics             1002   \n",
       "3             Ladieswear         61         Womens Lingerie             1017   \n",
       "4             Ladieswear         61         Womens Lingerie             1017   \n",
       "...                  ...        ...                     ...              ...   \n",
       "105537          Menswear         26           Men Underwear             1021   \n",
       "105538        Ladieswear          2                    H&M+             1005   \n",
       "105539        Ladieswear         18            Womens Trend             1005   \n",
       "105540           Divided         52     Divided Accessories             1019   \n",
       "105541        Ladieswear         18            Womens Trend             1005   \n",
       "\n",
       "        garment_group_name                                        detail_desc  \n",
       "0             Jersey Basic            Jersey top with narrow shoulder straps.  \n",
       "1             Jersey Basic            Jersey top with narrow shoulder straps.  \n",
       "2             Jersey Basic            Jersey top with narrow shoulder straps.  \n",
       "3        Under-, Nightwear  Microfibre T-shirt bra with underwired, moulde...  \n",
       "4        Under-, Nightwear  Microfibre T-shirt bra with underwired, moulde...  \n",
       "...                    ...                                                ...  \n",
       "105537    Socks and Tights  Socks in a fine-knit cotton blend with a small...  \n",
       "105538        Jersey Fancy  Loose-fitting sports vest top in ribbed fast-d...  \n",
       "105539        Jersey Fancy  Short, A-line dress in jersey with a round nec...  \n",
       "105540         Accessories                           Large plastic hair claw.  \n",
       "105541        Jersey Fancy  Calf-length dress in ribbed jersey made from a...  \n",
       "\n",
       "[105542 rows x 25 columns]"
      ]
     },
     "execution_count": 6,
     "metadata": {},
     "output_type": "execute_result"
    }
   ],
   "source": [
    "articles"
   ]
  },
  {
   "cell_type": "markdown",
   "id": "a23da79d",
   "metadata": {
    "papermill": {
     "duration": 0.0532,
     "end_time": "2022-02-14T14:31:47.262747",
     "exception": false,
     "start_time": "2022-02-14T14:31:47.209547",
     "status": "completed"
    },
    "tags": []
   },
   "source": [
    "**<span>Now, pay attention to index group-index structure. Ladieswear and Children/Baby have subgroups.</span>**"
   ]
  },
  {
   "cell_type": "code",
   "execution_count": 7,
   "id": "b3592271",
   "metadata": {
    "execution": {
     "iopub.execute_input": "2022-02-14T14:31:47.378407Z",
     "iopub.status.busy": "2022-02-14T14:31:47.377453Z",
     "iopub.status.idle": "2022-02-14T14:31:47.556467Z",
     "shell.execute_reply": "2022-02-14T14:31:47.555863Z",
     "shell.execute_reply.started": "2022-02-10T15:43:44.807918Z"
    },
    "jupyter": {
     "source_hidden": true
    },
    "papermill": {
     "duration": 0.240445,
     "end_time": "2022-02-14T14:31:47.556609",
     "exception": false,
     "start_time": "2022-02-14T14:31:47.316164",
     "status": "completed"
    },
    "tags": []
   },
   "outputs": [
    {
     "data": {
      "text/plain": [
       "index_group_name  index_name                    \n",
       "Baby/Children     Baby Sizes 50-98                   8875\n",
       "                  Children Accessories, Swimwear     4615\n",
       "                  Children Sizes 134-170             9214\n",
       "                  Children Sizes 92-140             12007\n",
       "Divided           Divided                           15149\n",
       "Ladieswear        Ladies Accessories                 6961\n",
       "                  Ladieswear                        26001\n",
       "                  Lingeries/Tights                   6775\n",
       "Menswear          Menswear                          12553\n",
       "Sport             Sport                              3392\n",
       "Name: article_id, dtype: int64"
      ]
     },
     "execution_count": 7,
     "metadata": {},
     "output_type": "execute_result"
    }
   ],
   "source": [
    "articles.groupby(['index_group_name', 'index_name']).count()['article_id']"
   ]
  },
  {
   "cell_type": "markdown",
   "id": "6d0deb17",
   "metadata": {
    "papermill": {
     "duration": 0.053348,
     "end_time": "2022-02-14T14:31:47.663587",
     "exception": false,
     "start_time": "2022-02-14T14:31:47.610239",
     "status": "completed"
    },
    "tags": []
   },
   "source": [
    "**<span> And look at the product group-product structure. Accessories are really various, the most numerious: bags, earrings and hats. However, trousers prevail.</span>**"
   ]
  },
  {
   "cell_type": "code",
   "execution_count": 8,
   "id": "cf1e29b9",
   "metadata": {
    "execution": {
     "iopub.execute_input": "2022-02-14T14:31:47.780920Z",
     "iopub.status.busy": "2022-02-14T14:31:47.779688Z",
     "iopub.status.idle": "2022-02-14T14:31:47.961936Z",
     "shell.execute_reply": "2022-02-14T14:31:47.961403Z",
     "shell.execute_reply.started": "2022-02-10T15:44:29.04768Z"
    },
    "papermill": {
     "duration": 0.244763,
     "end_time": "2022-02-14T14:31:47.962086",
     "exception": false,
     "start_time": "2022-02-14T14:31:47.717323",
     "status": "completed"
    },
    "tags": []
   },
   "outputs": [
    {
     "data": {
      "text/plain": [
       "product_group_name     product_type_name       \n",
       "Accessories            Accessories set                 7\n",
       "                       Alice band                      6\n",
       "                       Baby Bib                        3\n",
       "                       Bag                          1280\n",
       "                       Beanie                         56\n",
       "                       Belt                          458\n",
       "                       Bracelet                      180\n",
       "                       Braces                          3\n",
       "                       Bucket hat                      7\n",
       "                       Cap                            13\n",
       "                       Cap/peaked                    573\n",
       "                       Dog Wear                       20\n",
       "                       Earring                      1159\n",
       "                       Earrings                       11\n",
       "                       Eyeglasses                      2\n",
       "                       Felt hat                       10\n",
       "                       Giftbox                        15\n",
       "                       Gloves                        367\n",
       "                       Hair clip                     244\n",
       "                       Hair string                   238\n",
       "                       Hair ties                      24\n",
       "                       Hair/alice band               854\n",
       "                       Hairband                        2\n",
       "                       Hat/beanie                   1349\n",
       "                       Hat/brim                      396\n",
       "                       Headband                        1\n",
       "                       Necklace                      581\n",
       "                       Other accessories            1034\n",
       "                       Ring                          240\n",
       "                       Scarf                        1013\n",
       "                       Soft Toys                      46\n",
       "                       Straw hat                       6\n",
       "                       Sunglasses                    621\n",
       "                       Tie                           141\n",
       "                       Umbrella                       26\n",
       "                       Wallet                         77\n",
       "                       Watch                          73\n",
       "                       Waterbottle                    22\n",
       "Bags                   Backpack                        6\n",
       "                       Bumbag                          1\n",
       "                       Cross-body bag                  5\n",
       "                       Shoulder bag                    2\n",
       "                       Tote bag                        2\n",
       "                       Weekend/Gym bag                 9\n",
       "Cosmetic               Chem. cosmetics                 3\n",
       "                       Fine cosmetics                 46\n",
       "Fun                    Toy                             2\n",
       "Furniture              Side table                     13\n",
       "Garment Full body      Costumes                       90\n",
       "                       Dress                       10362\n",
       "                       Dungarees                     309\n",
       "                       Garment Set                  1320\n",
       "                       Jumpsuit/Playsuit            1147\n",
       "                       Outdoor overall                64\n",
       "Garment Lower body     Leggings/Tights              1878\n",
       "                       Outdoor trousers              130\n",
       "                       Shorts                       3939\n",
       "                       Skirt                        2696\n",
       "                       Trousers                    11169\n",
       "Garment Upper body     Blazer                       1110\n",
       "                       Blouse                       3979\n",
       "                       Bodysuit                      913\n",
       "                       Cardigan                     1550\n",
       "                       Coat                          460\n",
       "                       Hoodie                       2356\n",
       "                       Jacket                       3940\n",
       "                       Outdoor Waistcoat             154\n",
       "                       Polo shirt                    449\n",
       "                       Shirt                        3405\n",
       "                       Sweater                      9302\n",
       "                       T-shirt                      7904\n",
       "                       Tailored Waistcoat             73\n",
       "                       Top                          4155\n",
       "                       Vest top                     2991\n",
       "Garment and Shoe care  Clothing mist                   1\n",
       "                       Sewing kit                      1\n",
       "                       Stain remover spray             2\n",
       "                       Washing bag                     1\n",
       "                       Wood balls                      1\n",
       "                       Zipper head                     3\n",
       "Interior textile       Blanket                         1\n",
       "                       Cushion                         1\n",
       "                       Towel                           1\n",
       "Items                  Dog wear                        7\n",
       "                       Keychain                        1\n",
       "                       Mobile case                     4\n",
       "                       Umbrella                        3\n",
       "                       Wireless earphone case          2\n",
       "Nightwear              Night gown                    171\n",
       "                       Pyjama bottom                 220\n",
       "                       Pyjama jumpsuit/playsuit      388\n",
       "                       Pyjama set                   1120\n",
       "Shoes                  Ballerinas                    372\n",
       "                       Bootie                         31\n",
       "                       Boots                        1028\n",
       "                       Flat shoe                     165\n",
       "                       Flat shoes                     10\n",
       "                       Flip flop                     125\n",
       "                       Heeled sandals                202\n",
       "                       Heels                          22\n",
       "                       Moccasins                       4\n",
       "                       Other shoe                    395\n",
       "                       Pre-walkers                     1\n",
       "                       Pumps                         188\n",
       "                       Sandals                       757\n",
       "                       Slippers                      249\n",
       "                       Sneakers                     1621\n",
       "                       Wedge                         113\n",
       "Socks & Tights         Leg warmers                     7\n",
       "                       Socks                        1889\n",
       "                       Underwear Tights              546\n",
       "Stationery             Marker pen                      5\n",
       "Swimwear               Bikini top                    850\n",
       "                       Sarong                         66\n",
       "                       Swimsuit                      662\n",
       "                       Swimwear bottom              1307\n",
       "                       Swimwear set                  192\n",
       "                       Swimwear top                   50\n",
       "Underwear              Bra                          2212\n",
       "                       Bra extender                    1\n",
       "                       Kids Underwear top             96\n",
       "                       Long John                      30\n",
       "                       Nipple covers                  19\n",
       "                       Robe                          136\n",
       "                       Underdress                     20\n",
       "                       Underwear body                174\n",
       "                       Underwear bottom             2748\n",
       "                       Underwear corset                7\n",
       "                       Underwear set                  47\n",
       "Underwear/nightwear    Sleep Bag                       6\n",
       "                       Sleeping sack                  48\n",
       "Unknown                Unknown                       121\n",
       "Name: article_id, dtype: int64"
      ]
     },
     "execution_count": 8,
     "metadata": {},
     "output_type": "execute_result"
    }
   ],
   "source": [
    "pd.options.display.max_rows = None\n",
    "articles.groupby(['product_group_name', 'product_type_name']).count()['article_id']"
   ]
  },
  {
   "cell_type": "markdown",
   "id": "3490787d",
   "metadata": {
    "papermill": {
     "duration": 0.053904,
     "end_time": "2022-02-14T14:31:48.070600",
     "exception": false,
     "start_time": "2022-02-14T14:31:48.016696",
     "status": "completed"
    },
    "tags": []
   },
   "source": [
    "**<span> And the table with number of unique values in columns:</span>**"
   ]
  },
  {
   "cell_type": "code",
   "execution_count": 9,
   "id": "706e9e74",
   "metadata": {
    "execution": {
     "iopub.execute_input": "2022-02-14T14:31:48.191782Z",
     "iopub.status.busy": "2022-02-14T14:31:48.190761Z",
     "iopub.status.idle": "2022-02-14T14:31:48.336060Z",
     "shell.execute_reply": "2022-02-14T14:31:48.336539Z",
     "shell.execute_reply.started": "2022-02-10T15:46:53.275225Z"
    },
    "papermill": {
     "duration": 0.211866,
     "end_time": "2022-02-14T14:31:48.336752",
     "exception": false,
     "start_time": "2022-02-14T14:31:48.124886",
     "status": "completed"
    },
    "tags": []
   },
   "outputs": [
    {
     "name": "stdout",
     "output_type": "stream",
     "text": [
      "number of unique prod_name: 45875\n",
      "number of unique product_type_name: 131\n",
      "number of unique product_group_name: 19\n",
      "number of unique graphical_appearance_name: 30\n",
      "number of unique colour_group_name: 50\n",
      "number of unique perceived_colour_value_name: 8\n",
      "number of unique perceived_colour_master_name: 20\n",
      "number of unique department_name: 250\n",
      "number of unique index_name: 10\n",
      "number of unique index_group_name: 5\n",
      "number of unique section_name: 56\n",
      "number of unique garment_group_name: 21\n",
      "number of unique detail_desc: 43404\n"
     ]
    }
   ],
   "source": [
    "for col in articles.columns:\n",
    "    if not 'no' in col and not 'code' in col and not 'id' in col:\n",
    "        un_n = articles[col].nunique()\n",
    "        print(f'number of unique {col}: {un_n}')"
   ]
  },
  {
   "cell_type": "markdown",
   "id": "855660de",
   "metadata": {
    "papermill": {
     "duration": 0.055287,
     "end_time": "2022-02-14T14:31:48.447590",
     "exception": false,
     "start_time": "2022-02-14T14:31:48.392303",
     "status": "completed"
    },
    "tags": []
   },
   "source": [
    "## **<span id=\"Customers\">3. Customers</span>**"
   ]
  },
  {
   "cell_type": "markdown",
   "id": "6e1d9d2d",
   "metadata": {
    "papermill": {
     "duration": 0.054709,
     "end_time": "2022-02-14T14:31:48.557203",
     "exception": false,
     "start_time": "2022-02-14T14:31:48.502494",
     "status": "completed"
    },
    "tags": []
   },
   "source": [
    "[**<span style=\"color:#FEF1FE;background-color:#023e8a;border-radius: 5px;padding: 2px\">Go to Table of Content</span>**](#Content)"
   ]
  },
  {
   "cell_type": "markdown",
   "id": "6a0dae16",
   "metadata": {
    "papermill": {
     "duration": 0.05473,
     "end_time": "2022-02-14T14:31:48.667287",
     "exception": false,
     "start_time": "2022-02-14T14:31:48.612557",
     "status": "completed"
    },
    "tags": []
   },
   "source": [
    "**<span> Customers data description: </span>**\n",
    "\n",
    "> `customer_id` **<span>: A unique identifier of every customer</span>**  \n",
    "> `FN` **<span>: 1 or missed </span>**  \n",
    "> `Active` **<span>: 1 or missed</span>**  \n",
    "> `club_member_status` **<span>: Status in club</span>**  \n",
    "> `fashion_news_frequency` **<span>: How often H&M may send news to customer</span>**  \n",
    "> `age` **<span>: The current age</span>**  \n",
    "> `postal_code` **<span>: Postal code of customer</span>**  "
   ]
  },
  {
   "cell_type": "code",
   "execution_count": 10,
   "id": "11c6b8e2",
   "metadata": {
    "execution": {
     "iopub.execute_input": "2022-02-14T14:31:48.791517Z",
     "iopub.status.busy": "2022-02-14T14:31:48.782290Z",
     "iopub.status.idle": "2022-02-14T14:31:48.794700Z",
     "shell.execute_reply": "2022-02-14T14:31:48.794097Z"
    },
    "papermill": {
     "duration": 0.072739,
     "end_time": "2022-02-14T14:31:48.794838",
     "exception": false,
     "start_time": "2022-02-14T14:31:48.722099",
     "status": "completed"
    },
    "tags": []
   },
   "outputs": [
    {
     "data": {
      "text/html": [
       "<div>\n",
       "<style scoped>\n",
       "    .dataframe tbody tr th:only-of-type {\n",
       "        vertical-align: middle;\n",
       "    }\n",
       "\n",
       "    .dataframe tbody tr th {\n",
       "        vertical-align: top;\n",
       "    }\n",
       "\n",
       "    .dataframe thead th {\n",
       "        text-align: right;\n",
       "    }\n",
       "</style>\n",
       "<table border=\"1\" class=\"dataframe\">\n",
       "  <thead>\n",
       "    <tr style=\"text-align: right;\">\n",
       "      <th></th>\n",
       "      <th>customer_id</th>\n",
       "      <th>FN</th>\n",
       "      <th>Active</th>\n",
       "      <th>club_member_status</th>\n",
       "      <th>fashion_news_frequency</th>\n",
       "      <th>age</th>\n",
       "      <th>postal_code</th>\n",
       "    </tr>\n",
       "  </thead>\n",
       "  <tbody>\n",
       "    <tr>\n",
       "      <th>0</th>\n",
       "      <td>00000dbacae5abe5e23885899a1fa44253a17956c6d1c3...</td>\n",
       "      <td>NaN</td>\n",
       "      <td>NaN</td>\n",
       "      <td>ACTIVE</td>\n",
       "      <td>NONE</td>\n",
       "      <td>49.0</td>\n",
       "      <td>52043ee2162cf5aa7ee79974281641c6f11a68d276429a...</td>\n",
       "    </tr>\n",
       "    <tr>\n",
       "      <th>1</th>\n",
       "      <td>0000423b00ade91418cceaf3b26c6af3dd342b51fd051e...</td>\n",
       "      <td>NaN</td>\n",
       "      <td>NaN</td>\n",
       "      <td>ACTIVE</td>\n",
       "      <td>NONE</td>\n",
       "      <td>25.0</td>\n",
       "      <td>2973abc54daa8a5f8ccfe9362140c63247c5eee03f1d93...</td>\n",
       "    </tr>\n",
       "    <tr>\n",
       "      <th>2</th>\n",
       "      <td>000058a12d5b43e67d225668fa1f8d618c13dc232df0ca...</td>\n",
       "      <td>NaN</td>\n",
       "      <td>NaN</td>\n",
       "      <td>ACTIVE</td>\n",
       "      <td>NONE</td>\n",
       "      <td>24.0</td>\n",
       "      <td>64f17e6a330a85798e4998f62d0930d14db8db1c054af6...</td>\n",
       "    </tr>\n",
       "    <tr>\n",
       "      <th>3</th>\n",
       "      <td>00005ca1c9ed5f5146b52ac8639a40ca9d57aeff4d1bd2...</td>\n",
       "      <td>NaN</td>\n",
       "      <td>NaN</td>\n",
       "      <td>ACTIVE</td>\n",
       "      <td>NONE</td>\n",
       "      <td>54.0</td>\n",
       "      <td>5d36574f52495e81f019b680c843c443bd343d5ca5b1c2...</td>\n",
       "    </tr>\n",
       "    <tr>\n",
       "      <th>4</th>\n",
       "      <td>00006413d8573cd20ed7128e53b7b13819fe5cfc2d801f...</td>\n",
       "      <td>1.0</td>\n",
       "      <td>1.0</td>\n",
       "      <td>ACTIVE</td>\n",
       "      <td>Regularly</td>\n",
       "      <td>52.0</td>\n",
       "      <td>25fa5ddee9aac01b35208d01736e57942317d756b32ddd...</td>\n",
       "    </tr>\n",
       "  </tbody>\n",
       "</table>\n",
       "</div>"
      ],
      "text/plain": [
       "                                         customer_id   FN  Active  \\\n",
       "0  00000dbacae5abe5e23885899a1fa44253a17956c6d1c3...  NaN     NaN   \n",
       "1  0000423b00ade91418cceaf3b26c6af3dd342b51fd051e...  NaN     NaN   \n",
       "2  000058a12d5b43e67d225668fa1f8d618c13dc232df0ca...  NaN     NaN   \n",
       "3  00005ca1c9ed5f5146b52ac8639a40ca9d57aeff4d1bd2...  NaN     NaN   \n",
       "4  00006413d8573cd20ed7128e53b7b13819fe5cfc2d801f...  1.0     1.0   \n",
       "\n",
       "  club_member_status fashion_news_frequency   age  \\\n",
       "0             ACTIVE                   NONE  49.0   \n",
       "1             ACTIVE                   NONE  25.0   \n",
       "2             ACTIVE                   NONE  24.0   \n",
       "3             ACTIVE                   NONE  54.0   \n",
       "4             ACTIVE              Regularly  52.0   \n",
       "\n",
       "                                         postal_code  \n",
       "0  52043ee2162cf5aa7ee79974281641c6f11a68d276429a...  \n",
       "1  2973abc54daa8a5f8ccfe9362140c63247c5eee03f1d93...  \n",
       "2  64f17e6a330a85798e4998f62d0930d14db8db1c054af6...  \n",
       "3  5d36574f52495e81f019b680c843c443bd343d5ca5b1c2...  \n",
       "4  25fa5ddee9aac01b35208d01736e57942317d756b32ddd...  "
      ]
     },
     "execution_count": 10,
     "metadata": {},
     "output_type": "execute_result"
    }
   ],
   "source": [
    "pd.options.display.max_rows = 50\n",
    "customers.head()"
   ]
  },
  {
   "cell_type": "markdown",
   "id": "d88fb436",
   "metadata": {
    "papermill": {
     "duration": 0.055357,
     "end_time": "2022-02-14T14:31:48.906158",
     "exception": false,
     "start_time": "2022-02-14T14:31:48.850801",
     "status": "completed"
    },
    "tags": []
   },
   "source": [
    "**<span> There are no duplicates in </span>** `customers`"
   ]
  },
  {
   "cell_type": "code",
   "execution_count": 11,
   "id": "99ddb786",
   "metadata": {
    "execution": {
     "iopub.execute_input": "2022-02-14T14:31:49.122706Z",
     "iopub.status.busy": "2022-02-14T14:31:49.022499Z",
     "iopub.status.idle": "2022-02-14T14:31:49.715175Z",
     "shell.execute_reply": "2022-02-14T14:31:49.714485Z",
     "shell.execute_reply.started": "2022-02-09T15:55:44.694583Z"
    },
    "papermill": {
     "duration": 0.751963,
     "end_time": "2022-02-14T14:31:49.715326",
     "exception": false,
     "start_time": "2022-02-14T14:31:48.963363",
     "status": "completed"
    },
    "tags": []
   },
   "outputs": [
    {
     "data": {
      "text/plain": [
       "0"
      ]
     },
     "execution_count": 11,
     "metadata": {},
     "output_type": "execute_result"
    }
   ],
   "source": [
    "customers.shape[0] - customers['customer_id'].nunique()"
   ]
  },
  {
   "cell_type": "markdown",
   "id": "b5fdaca3",
   "metadata": {
    "papermill": {
     "duration": 0.055924,
     "end_time": "2022-02-14T14:31:49.827334",
     "exception": false,
     "start_time": "2022-02-14T14:31:49.771410",
     "status": "completed"
    },
    "tags": []
   },
   "source": [
    "**<span> Here we have abnormal number of customers by one postal code. One has 120303, it might be encoded nan adress or smth like a huge distribution center, or pickup.</span>**"
   ]
  },
  {
   "cell_type": "code",
   "execution_count": 12,
   "id": "ddaf4eb8",
   "metadata": {
    "execution": {
     "iopub.execute_input": "2022-02-14T14:31:49.951590Z",
     "iopub.status.busy": "2022-02-14T14:31:49.949818Z",
     "iopub.status.idle": "2022-02-14T14:31:52.260201Z",
     "shell.execute_reply": "2022-02-14T14:31:52.259507Z",
     "shell.execute_reply.started": "2022-02-09T15:55:46.781383Z"
    },
    "papermill": {
     "duration": 2.37571,
     "end_time": "2022-02-14T14:31:52.260353",
     "exception": false,
     "start_time": "2022-02-14T14:31:49.884643",
     "status": "completed"
    },
    "tags": []
   },
   "outputs": [
    {
     "data": {
      "text/html": [
       "<div>\n",
       "<style scoped>\n",
       "    .dataframe tbody tr th:only-of-type {\n",
       "        vertical-align: middle;\n",
       "    }\n",
       "\n",
       "    .dataframe tbody tr th {\n",
       "        vertical-align: top;\n",
       "    }\n",
       "\n",
       "    .dataframe thead th {\n",
       "        text-align: right;\n",
       "    }\n",
       "</style>\n",
       "<table border=\"1\" class=\"dataframe\">\n",
       "  <thead>\n",
       "    <tr style=\"text-align: right;\">\n",
       "      <th></th>\n",
       "      <th>postal_code</th>\n",
       "      <th>customer_id</th>\n",
       "      <th>FN</th>\n",
       "      <th>Active</th>\n",
       "      <th>club_member_status</th>\n",
       "      <th>fashion_news_frequency</th>\n",
       "      <th>age</th>\n",
       "    </tr>\n",
       "  </thead>\n",
       "  <tbody>\n",
       "    <tr>\n",
       "      <th>61034</th>\n",
       "      <td>2c29ae653a9282cce4151bd87643c907644e09541abc28...</td>\n",
       "      <td>120303</td>\n",
       "      <td>42874</td>\n",
       "      <td>39886</td>\n",
       "      <td>118281</td>\n",
       "      <td>114377</td>\n",
       "      <td>118002</td>\n",
       "    </tr>\n",
       "    <tr>\n",
       "      <th>281937</th>\n",
       "      <td>cc4ed85e30f4977dae47662ddc468cd2eec11472de6fac...</td>\n",
       "      <td>261</td>\n",
       "      <td>109</td>\n",
       "      <td>104</td>\n",
       "      <td>261</td>\n",
       "      <td>261</td>\n",
       "      <td>260</td>\n",
       "    </tr>\n",
       "    <tr>\n",
       "      <th>156090</th>\n",
       "      <td>714976379549eb90aae4a71bca6c7402cc646ae7c40f6c...</td>\n",
       "      <td>159</td>\n",
       "      <td>90</td>\n",
       "      <td>88</td>\n",
       "      <td>159</td>\n",
       "      <td>159</td>\n",
       "      <td>158</td>\n",
       "    </tr>\n",
       "    <tr>\n",
       "      <th>171208</th>\n",
       "      <td>7c1fa3b0ec1d37ce2c3f34f63bd792f3b4494f324b6be5...</td>\n",
       "      <td>157</td>\n",
       "      <td>55</td>\n",
       "      <td>54</td>\n",
       "      <td>157</td>\n",
       "      <td>156</td>\n",
       "      <td>156</td>\n",
       "    </tr>\n",
       "    <tr>\n",
       "      <th>126228</th>\n",
       "      <td>5b7eb31eabebd3277de632b82267286d847fd5d44287ee...</td>\n",
       "      <td>156</td>\n",
       "      <td>42</td>\n",
       "      <td>41</td>\n",
       "      <td>156</td>\n",
       "      <td>156</td>\n",
       "      <td>155</td>\n",
       "    </tr>\n",
       "  </tbody>\n",
       "</table>\n",
       "</div>"
      ],
      "text/plain": [
       "                                              postal_code  customer_id     FN  \\\n",
       "61034   2c29ae653a9282cce4151bd87643c907644e09541abc28...       120303  42874   \n",
       "281937  cc4ed85e30f4977dae47662ddc468cd2eec11472de6fac...          261    109   \n",
       "156090  714976379549eb90aae4a71bca6c7402cc646ae7c40f6c...          159     90   \n",
       "171208  7c1fa3b0ec1d37ce2c3f34f63bd792f3b4494f324b6be5...          157     55   \n",
       "126228  5b7eb31eabebd3277de632b82267286d847fd5d44287ee...          156     42   \n",
       "\n",
       "        Active  club_member_status  fashion_news_frequency     age  \n",
       "61034    39886              118281                  114377  118002  \n",
       "281937     104                 261                     261     260  \n",
       "156090      88                 159                     159     158  \n",
       "171208      54                 157                     156     156  \n",
       "126228      41                 156                     156     155  "
      ]
     },
     "execution_count": 12,
     "metadata": {},
     "output_type": "execute_result"
    }
   ],
   "source": [
    "data_postal = customers.groupby('postal_code', as_index=False).count().sort_values('customer_id', ascending=False)\n",
    "data_postal.head()"
   ]
  },
  {
   "cell_type": "markdown",
   "id": "cea37475",
   "metadata": {
    "papermill": {
     "duration": 0.056988,
     "end_time": "2022-02-14T14:31:52.373867",
     "exception": false,
     "start_time": "2022-02-14T14:31:52.316879",
     "status": "completed"
    },
    "tags": []
   },
   "source": [
    "**<span> Ages, club_member_status are different, like customer_ids.</span>**"
   ]
  },
  {
   "cell_type": "code",
   "execution_count": 13,
   "id": "eec9278e",
   "metadata": {
    "execution": {
     "iopub.execute_input": "2022-02-14T14:31:52.747463Z",
     "iopub.status.busy": "2022-02-14T14:31:52.746734Z",
     "iopub.status.idle": "2022-02-14T14:31:52.792984Z",
     "shell.execute_reply": "2022-02-14T14:31:52.792223Z",
     "shell.execute_reply.started": "2022-02-09T15:55:52.044182Z"
    },
    "papermill": {
     "duration": 0.361272,
     "end_time": "2022-02-14T14:31:52.793149",
     "exception": false,
     "start_time": "2022-02-14T14:31:52.431877",
     "status": "completed"
    },
    "tags": []
   },
   "outputs": [
    {
     "data": {
      "text/html": [
       "<div>\n",
       "<style scoped>\n",
       "    .dataframe tbody tr th:only-of-type {\n",
       "        vertical-align: middle;\n",
       "    }\n",
       "\n",
       "    .dataframe tbody tr th {\n",
       "        vertical-align: top;\n",
       "    }\n",
       "\n",
       "    .dataframe thead th {\n",
       "        text-align: right;\n",
       "    }\n",
       "</style>\n",
       "<table border=\"1\" class=\"dataframe\">\n",
       "  <thead>\n",
       "    <tr style=\"text-align: right;\">\n",
       "      <th></th>\n",
       "      <th>customer_id</th>\n",
       "      <th>FN</th>\n",
       "      <th>Active</th>\n",
       "      <th>club_member_status</th>\n",
       "      <th>fashion_news_frequency</th>\n",
       "      <th>age</th>\n",
       "      <th>postal_code</th>\n",
       "    </tr>\n",
       "  </thead>\n",
       "  <tbody>\n",
       "    <tr>\n",
       "      <th>5</th>\n",
       "      <td>000064249685c11552da43ef22a5030f35a147f723d5b0...</td>\n",
       "      <td>NaN</td>\n",
       "      <td>NaN</td>\n",
       "      <td>NaN</td>\n",
       "      <td>NaN</td>\n",
       "      <td>NaN</td>\n",
       "      <td>2c29ae653a9282cce4151bd87643c907644e09541abc28...</td>\n",
       "    </tr>\n",
       "    <tr>\n",
       "      <th>8</th>\n",
       "      <td>00007e8d4e54114b5b2a9b51586325a8d0fa74ea23ef77...</td>\n",
       "      <td>NaN</td>\n",
       "      <td>NaN</td>\n",
       "      <td>ACTIVE</td>\n",
       "      <td>NONE</td>\n",
       "      <td>20.0</td>\n",
       "      <td>2c29ae653a9282cce4151bd87643c907644e09541abc28...</td>\n",
       "    </tr>\n",
       "    <tr>\n",
       "      <th>9</th>\n",
       "      <td>00008469a21b50b3d147c97135e25b4201a8c58997f787...</td>\n",
       "      <td>NaN</td>\n",
       "      <td>NaN</td>\n",
       "      <td>ACTIVE</td>\n",
       "      <td>NONE</td>\n",
       "      <td>20.0</td>\n",
       "      <td>2c29ae653a9282cce4151bd87643c907644e09541abc28...</td>\n",
       "    </tr>\n",
       "    <tr>\n",
       "      <th>11</th>\n",
       "      <td>000097d91384a0c14893c09ed047a963c4fc6a5c021044...</td>\n",
       "      <td>NaN</td>\n",
       "      <td>NaN</td>\n",
       "      <td>ACTIVE</td>\n",
       "      <td>NONE</td>\n",
       "      <td>31.0</td>\n",
       "      <td>2c29ae653a9282cce4151bd87643c907644e09541abc28...</td>\n",
       "    </tr>\n",
       "    <tr>\n",
       "      <th>14</th>\n",
       "      <td>0000ae1bbb25e04bdc7e35f718e852adfb3fbb72ef38b3...</td>\n",
       "      <td>1.0</td>\n",
       "      <td>1.0</td>\n",
       "      <td>ACTIVE</td>\n",
       "      <td>Regularly</td>\n",
       "      <td>29.0</td>\n",
       "      <td>2c29ae653a9282cce4151bd87643c907644e09541abc28...</td>\n",
       "    </tr>\n",
       "  </tbody>\n",
       "</table>\n",
       "</div>"
      ],
      "text/plain": [
       "                                          customer_id   FN  Active  \\\n",
       "5   000064249685c11552da43ef22a5030f35a147f723d5b0...  NaN     NaN   \n",
       "8   00007e8d4e54114b5b2a9b51586325a8d0fa74ea23ef77...  NaN     NaN   \n",
       "9   00008469a21b50b3d147c97135e25b4201a8c58997f787...  NaN     NaN   \n",
       "11  000097d91384a0c14893c09ed047a963c4fc6a5c021044...  NaN     NaN   \n",
       "14  0000ae1bbb25e04bdc7e35f718e852adfb3fbb72ef38b3...  1.0     1.0   \n",
       "\n",
       "   club_member_status fashion_news_frequency   age  \\\n",
       "5                 NaN                    NaN   NaN   \n",
       "8              ACTIVE                   NONE  20.0   \n",
       "9              ACTIVE                   NONE  20.0   \n",
       "11             ACTIVE                   NONE  31.0   \n",
       "14             ACTIVE              Regularly  29.0   \n",
       "\n",
       "                                          postal_code  \n",
       "5   2c29ae653a9282cce4151bd87643c907644e09541abc28...  \n",
       "8   2c29ae653a9282cce4151bd87643c907644e09541abc28...  \n",
       "9   2c29ae653a9282cce4151bd87643c907644e09541abc28...  \n",
       "11  2c29ae653a9282cce4151bd87643c907644e09541abc28...  \n",
       "14  2c29ae653a9282cce4151bd87643c907644e09541abc28...  "
      ]
     },
     "execution_count": 13,
     "metadata": {},
     "output_type": "execute_result"
    }
   ],
   "source": [
    "customers[customers['postal_code']=='2c29ae653a9282cce4151bd87643c907644e09541abc28ae87dea0d1f6603b1c'].head(5)"
   ]
  },
  {
   "cell_type": "markdown",
   "id": "8b31477a",
   "metadata": {
    "papermill": {
     "duration": 0.056865,
     "end_time": "2022-02-14T14:31:52.908071",
     "exception": false,
     "start_time": "2022-02-14T14:31:52.851206",
     "status": "completed"
    },
    "tags": []
   },
   "source": [
    "**<span> The most common age is about 21-23</span>**"
   ]
  },
  {
   "cell_type": "code",
   "execution_count": 14,
   "id": "eb7ca542",
   "metadata": {
    "execution": {
     "iopub.execute_input": "2022-02-14T14:31:53.030176Z",
     "iopub.status.busy": "2022-02-14T14:31:53.029494Z",
     "iopub.status.idle": "2022-02-14T14:31:53.568683Z",
     "shell.execute_reply": "2022-02-14T14:31:53.567989Z",
     "shell.execute_reply.started": "2022-02-10T15:47:35.514746Z"
    },
    "jupyter": {
     "source_hidden": true
    },
    "papermill": {
     "duration": 0.603376,
     "end_time": "2022-02-14T14:31:53.568834",
     "exception": false,
     "start_time": "2022-02-14T14:31:52.965458",
     "status": "completed"
    },
    "tags": []
   },
   "outputs": [
    {
     "data": {
      "image/png": "[encoded data removed]",
      "text/plain": [
       "<Figure size 720x360 with 1 Axes>"
      ]
     },
     "metadata": {},
     "output_type": "display_data"
    }
   ],
   "source": [
    "import seaborn as sns\n",
    "from matplotlib import pyplot as plt\n",
    "sns.set_style(\"darkgrid\")\n",
    "f, ax = plt.subplots(figsize=(10,5))\n",
    "ax = sns.histplot(data=customers, x='age', bins=50, color='orange')\n",
    "ax.set_xlabel('Distribution of the customers age')\n",
    "plt.show()"
   ]
  },
  {
   "cell_type": "code",
   "execution_count": 15,
   "id": "751bad4f",
   "metadata": {},
   "outputs": [
    {
     "data": {
      "text/plain": [
       "array(['ACTIVE', nan, 'PRE-CREATE', 'LEFT CLUB'], dtype=object)"
      ]
     },
     "execution_count": 15,
     "metadata": {},
     "output_type": "execute_result"
    }
   ],
   "source": [
    "customers.club_member_status.unique()"
   ]
  },
  {
   "cell_type": "markdown",
   "id": "be1048df",
   "metadata": {
    "papermill": {
     "duration": 0.057705,
     "end_time": "2022-02-14T14:31:53.684919",
     "exception": false,
     "start_time": "2022-02-14T14:31:53.627214",
     "status": "completed"
    },
    "tags": []
   },
   "source": [
    "**<span> Status in H&M club. Almost every customer has an active club status, some of them begin to activate it (pre-create). A tiny part of customers abandoned the club.</span>**"
   ]
  },
  {
   "cell_type": "code",
   "execution_count": 16,
   "id": "7b06d919",
   "metadata": {},
   "outputs": [
    {
     "name": "stdout",
     "output_type": "stream",
     "text": [
      "NaN values dsitribution in CUSTOMER dataset: \n"
     ]
    },
    {
     "data": {
      "text/plain": [
       "customer_id                    0\n",
       "FN                        895050\n",
       "Active                    907576\n",
       "club_member_status          6062\n",
       "fashion_news_frequency     16009\n",
       "age                        15861\n",
       "postal_code                    0\n",
       "dtype: int64"
      ]
     },
     "execution_count": 16,
     "metadata": {},
     "output_type": "execute_result"
    }
   ],
   "source": [
    "print(\"NaN values dsitribution in CUSTOMER dataset: \")\n",
    "customers.isnull().sum(axis = 0)"
   ]
  },
  {
   "cell_type": "code",
   "execution_count": 17,
   "id": "5fb3fb89",
   "metadata": {},
   "outputs": [],
   "source": [
    "customers['club_member_status'].fillna('None', inplace=True)"
   ]
  },
  {
   "cell_type": "code",
   "execution_count": 18,
   "id": "1e9ab7ad",
   "metadata": {
    "execution": {
     "iopub.execute_input": "2022-02-14T14:31:53.812677Z",
     "iopub.status.busy": "2022-02-14T14:31:53.811996Z",
     "iopub.status.idle": "2022-02-14T14:31:55.756790Z",
     "shell.execute_reply": "2022-02-14T14:31:55.757631Z",
     "shell.execute_reply.started": "2022-02-10T15:48:10.530449Z"
    },
    "jupyter": {
     "source_hidden": true
    },
    "papermill": {
     "duration": 2.015137,
     "end_time": "2022-02-14T14:31:55.757832",
     "exception": false,
     "start_time": "2022-02-14T14:31:53.742695",
     "status": "completed"
    },
    "tags": []
   },
   "outputs": [
    {
     "data": {
      "image/png": "[encoded data removed]",
      "text/plain": [
       "<Figure size 720x360 with 1 Axes>"
      ]
     },
     "metadata": {},
     "output_type": "display_data"
    }
   ],
   "source": [
    "sns.set_style(\"darkgrid\")\n",
    "f, ax = plt.subplots(figsize=(10,5))\n",
    "ax = sns.histplot(data=customers, x='club_member_status', color='orange')\n",
    "ax.set_xlabel('Distribution of club member status')\n",
    "plt.show()"
   ]
  },
  {
   "cell_type": "markdown",
   "id": "244ced57",
   "metadata": {
    "papermill": {
     "duration": 0.058501,
     "end_time": "2022-02-14T14:31:55.875366",
     "exception": false,
     "start_time": "2022-02-14T14:31:55.816865",
     "status": "completed"
    },
    "tags": []
   },
   "source": [
    "**<span> Here we have three types for NO DATA. Let's unite these values.</span>**"
   ]
  },
  {
   "cell_type": "code",
   "execution_count": 20,
   "id": "5b3ac961",
   "metadata": {
    "execution": {
     "iopub.execute_input": "2022-02-14T14:31:56.279207Z",
     "iopub.status.busy": "2022-02-14T14:31:56.278498Z",
     "iopub.status.idle": "2022-02-14T14:31:56.479565Z",
     "shell.execute_reply": "2022-02-14T14:31:56.480109Z",
     "shell.execute_reply.started": "2022-02-10T16:06:25.326807Z"
    },
    "jupyter": {
     "source_hidden": true
    },
    "papermill": {
     "duration": 0.263815,
     "end_time": "2022-02-14T14:31:56.480276",
     "exception": false,
     "start_time": "2022-02-14T14:31:56.216461",
     "status": "completed"
    },
    "tags": []
   },
   "outputs": [
    {
     "data": {
      "text/plain": [
       "array(['None', 'Regularly', 'Monthly'], dtype=object)"
      ]
     },
     "execution_count": 20,
     "metadata": {},
     "output_type": "execute_result"
    }
   ],
   "source": [
    "customers.loc[~customers['fashion_news_frequency'].isin(['Regularly', 'Monthly']), 'fashion_news_frequency'] = 'None'\n",
    "customers['fashion_news_frequency'].unique()"
   ]
  },
  {
   "cell_type": "code",
   "execution_count": 21,
   "id": "06e5fc61",
   "metadata": {
    "execution": {
     "iopub.execute_input": "2022-02-14T14:31:56.602574Z",
     "iopub.status.busy": "2022-02-14T14:31:56.601975Z",
     "iopub.status.idle": "2022-02-14T14:31:56.959162Z",
     "shell.execute_reply": "2022-02-14T14:31:56.958248Z",
     "shell.execute_reply.started": "2022-02-10T16:06:30.794244Z"
    },
    "jupyter": {
     "source_hidden": true
    },
    "papermill": {
     "duration": 0.419435,
     "end_time": "2022-02-14T14:31:56.959381",
     "exception": false,
     "start_time": "2022-02-14T14:31:56.539946",
     "status": "completed"
    },
    "tags": []
   },
   "outputs": [],
   "source": [
    "pie_data = customers[['customer_id', 'fashion_news_frequency']].groupby('fashion_news_frequency').count()"
   ]
  },
  {
   "cell_type": "markdown",
   "id": "d004aace",
   "metadata": {
    "papermill": {
     "duration": 0.063418,
     "end_time": "2022-02-14T14:31:57.094480",
     "exception": false,
     "start_time": "2022-02-14T14:31:57.031062",
     "status": "completed"
    },
    "tags": []
   },
   "source": [
    "**<span> Customers prefer not to get any messages about the current news.</span>**"
   ]
  },
  {
   "cell_type": "code",
   "execution_count": 22,
   "id": "3b7a7c08",
   "metadata": {
    "execution": {
     "iopub.execute_input": "2022-02-14T14:31:57.235947Z",
     "iopub.status.busy": "2022-02-14T14:31:57.234887Z",
     "iopub.status.idle": "2022-02-14T14:31:57.325231Z",
     "shell.execute_reply": "2022-02-14T14:31:57.326080Z",
     "shell.execute_reply.started": "2022-02-10T16:06:33.012743Z"
    },
    "jupyter": {
     "source_hidden": true
    },
    "papermill": {
     "duration": 0.172567,
     "end_time": "2022-02-14T14:31:57.326345",
     "exception": false,
     "start_time": "2022-02-14T14:31:57.153778",
     "status": "completed"
    },
    "tags": []
   },
   "outputs": [
    {
     "data": {
      "image/png": "[encoded data removed]",
      "text/plain": [
       "<Figure size 720x360 with 1 Axes>"
      ]
     },
     "metadata": {},
     "output_type": "display_data"
    }
   ],
   "source": [
    "sns.set_style(\"darkgrid\")\n",
    "f, ax = plt.subplots(figsize=(10,5))\n",
    "# ax = sns.histplot(data=customers, x='fashion_news_frequency', color='orange')\n",
    "# ax = sns.pie(data=customers, x='fashion_news_frequency', color='orange')\n",
    "colors = sns.color_palette('pastel')\n",
    "ax.pie(pie_data.customer_id, labels=pie_data.index, colors = colors)\n",
    "ax.set_facecolor('lightgrey')\n",
    "ax.set_xlabel('Distribution of fashion news frequency')\n",
    "plt.show()"
   ]
  },
  {
   "cell_type": "markdown",
   "id": "9f95a335",
   "metadata": {
    "papermill": {
     "duration": 0.060295,
     "end_time": "2022-02-14T14:31:57.492007",
     "exception": false,
     "start_time": "2022-02-14T14:31:57.431712",
     "status": "completed"
    },
    "tags": []
   },
   "source": [
    "## **<span id=\"Transactions\">4. Transactions</span>**"
   ]
  },
  {
   "cell_type": "markdown",
   "id": "6e44ab47",
   "metadata": {
    "papermill": {
     "duration": 0.060472,
     "end_time": "2022-02-14T14:31:57.612671",
     "exception": false,
     "start_time": "2022-02-14T14:31:57.552199",
     "status": "completed"
    },
    "tags": []
   },
   "source": [
    "[**<span style=\"color:#FEF1FE;background-color:#023e8a;border-radius: 5px;padding: 2px\">Go to Table of Content</span>**](#Content)"
   ]
  },
  {
   "cell_type": "markdown",
   "id": "1d24ec04",
   "metadata": {
    "papermill": {
     "duration": 0.060644,
     "end_time": "2022-02-14T14:31:57.734005",
     "exception": false,
     "start_time": "2022-02-14T14:31:57.673361",
     "status": "completed"
    },
    "tags": []
   },
   "source": [
    "**<span> Transactions data description: </span>**\n",
    "\n",
    "> `t_dat` **<span>: A unique identifier of every customer</span>**  \n",
    "> `customer_id` **<span>: A unique identifier of every customer </span>**  **<span style=\"color:#FF0000;\">(in </span>** `customers` **<span style=\"color:#FF0000;\"> table)</span>**  \n",
    "> `article_id` **<span>: A unique identifier of every article</span>**  **<span style=\"color:#FF0000;\">(in </span>** `articles` **<span style=\"color:#FF0000;\"> table)</span>**  \n",
    "> `price` **<span>: Price of purchase</span>**  \n",
    "> `sales_channel_id` **<span>: 1 or 2</span>**  "
   ]
  },
  {
   "cell_type": "code",
   "execution_count": 23,
   "id": "00e2e1d3",
   "metadata": {
    "execution": {
     "iopub.execute_input": "2022-02-14T14:31:57.858766Z",
     "iopub.status.busy": "2022-02-14T14:31:57.858034Z",
     "iopub.status.idle": "2022-02-14T14:31:57.868031Z",
     "shell.execute_reply": "2022-02-14T14:31:57.868576Z",
     "shell.execute_reply.started": "2022-02-10T16:31:36.941688Z"
    },
    "papermill": {
     "duration": 0.074546,
     "end_time": "2022-02-14T14:31:57.868771",
     "exception": false,
     "start_time": "2022-02-14T14:31:57.794225",
     "status": "completed"
    },
    "tags": []
   },
   "outputs": [
    {
     "data": {
      "text/html": [
       "<div>\n",
       "<style scoped>\n",
       "    .dataframe tbody tr th:only-of-type {\n",
       "        vertical-align: middle;\n",
       "    }\n",
       "\n",
       "    .dataframe tbody tr th {\n",
       "        vertical-align: top;\n",
       "    }\n",
       "\n",
       "    .dataframe thead th {\n",
       "        text-align: right;\n",
       "    }\n",
       "</style>\n",
       "<table border=\"1\" class=\"dataframe\">\n",
       "  <thead>\n",
       "    <tr style=\"text-align: right;\">\n",
       "      <th></th>\n",
       "      <th>t_dat</th>\n",
       "      <th>customer_id</th>\n",
       "      <th>article_id</th>\n",
       "      <th>price</th>\n",
       "      <th>sales_channel_id</th>\n",
       "    </tr>\n",
       "  </thead>\n",
       "  <tbody>\n",
       "    <tr>\n",
       "      <th>0</th>\n",
       "      <td>2018-09-20</td>\n",
       "      <td>000058a12d5b43e67d225668fa1f8d618c13dc232df0ca...</td>\n",
       "      <td>663713001</td>\n",
       "      <td>0.050831</td>\n",
       "      <td>2</td>\n",
       "    </tr>\n",
       "    <tr>\n",
       "      <th>1</th>\n",
       "      <td>2018-09-20</td>\n",
       "      <td>000058a12d5b43e67d225668fa1f8d618c13dc232df0ca...</td>\n",
       "      <td>541518023</td>\n",
       "      <td>0.030492</td>\n",
       "      <td>2</td>\n",
       "    </tr>\n",
       "    <tr>\n",
       "      <th>2</th>\n",
       "      <td>2018-09-20</td>\n",
       "      <td>00007d2de826758b65a93dd24ce629ed66842531df6699...</td>\n",
       "      <td>505221004</td>\n",
       "      <td>0.015237</td>\n",
       "      <td>2</td>\n",
       "    </tr>\n",
       "    <tr>\n",
       "      <th>3</th>\n",
       "      <td>2018-09-20</td>\n",
       "      <td>00007d2de826758b65a93dd24ce629ed66842531df6699...</td>\n",
       "      <td>685687003</td>\n",
       "      <td>0.016932</td>\n",
       "      <td>2</td>\n",
       "    </tr>\n",
       "    <tr>\n",
       "      <th>4</th>\n",
       "      <td>2018-09-20</td>\n",
       "      <td>00007d2de826758b65a93dd24ce629ed66842531df6699...</td>\n",
       "      <td>685687004</td>\n",
       "      <td>0.016932</td>\n",
       "      <td>2</td>\n",
       "    </tr>\n",
       "  </tbody>\n",
       "</table>\n",
       "</div>"
      ],
      "text/plain": [
       "        t_dat                                        customer_id  article_id  \\\n",
       "0  2018-09-20  000058a12d5b43e67d225668fa1f8d618c13dc232df0ca...   663713001   \n",
       "1  2018-09-20  000058a12d5b43e67d225668fa1f8d618c13dc232df0ca...   541518023   \n",
       "2  2018-09-20  00007d2de826758b65a93dd24ce629ed66842531df6699...   505221004   \n",
       "3  2018-09-20  00007d2de826758b65a93dd24ce629ed66842531df6699...   685687003   \n",
       "4  2018-09-20  00007d2de826758b65a93dd24ce629ed66842531df6699...   685687004   \n",
       "\n",
       "      price  sales_channel_id  \n",
       "0  0.050831                 2  \n",
       "1  0.030492                 2  \n",
       "2  0.015237                 2  \n",
       "3  0.016932                 2  \n",
       "4  0.016932                 2  "
      ]
     },
     "execution_count": 23,
     "metadata": {},
     "output_type": "execute_result"
    }
   ],
   "source": [
    "transactions.head()"
   ]
  },
  {
   "cell_type": "markdown",
   "id": "7d704964",
   "metadata": {
    "papermill": {
     "duration": 0.061796,
     "end_time": "2022-02-14T14:31:57.992799",
     "exception": false,
     "start_time": "2022-02-14T14:31:57.931003",
     "status": "completed"
    },
    "tags": []
   },
   "source": [
    "**<span> Here we see outliers for price. </span>**"
   ]
  },
  {
   "cell_type": "code",
   "execution_count": 24,
   "id": "3bd28aa4",
   "metadata": {
    "execution": {
     "iopub.execute_input": "2022-02-14T14:31:58.118185Z",
     "iopub.status.busy": "2022-02-14T14:31:58.117489Z",
     "iopub.status.idle": "2022-02-14T14:32:01.265401Z",
     "shell.execute_reply": "2022-02-14T14:32:01.266040Z",
     "shell.execute_reply.started": "2022-02-10T16:31:36.964989Z"
    },
    "papermill": {
     "duration": 3.212162,
     "end_time": "2022-02-14T14:32:01.266231",
     "exception": false,
     "start_time": "2022-02-14T14:31:58.054069",
     "status": "completed"
    },
    "tags": []
   },
   "outputs": [
    {
     "data": {
      "text/plain": [
       "count   31788324.0000\n",
       "mean           0.0278\n",
       "std            0.0192\n",
       "min            0.0000\n",
       "25%            0.0158\n",
       "50%            0.0254\n",
       "75%            0.0339\n",
       "max            0.5915\n",
       "Name: price, dtype: float64"
      ]
     },
     "execution_count": 24,
     "metadata": {},
     "output_type": "execute_result"
    }
   ],
   "source": [
    "pd.set_option('display.float_format', '{:.4f}'.format)\n",
    "transactions.describe()['price']"
   ]
  },
  {
   "cell_type": "code",
   "execution_count": 25,
   "id": "29a24ca7",
   "metadata": {
    "execution": {
     "iopub.execute_input": "2022-02-14T14:32:01.394629Z",
     "iopub.status.busy": "2022-02-14T14:32:01.394005Z",
     "iopub.status.idle": "2022-02-14T14:32:01.404456Z",
     "shell.execute_reply": "2022-02-14T14:32:01.405063Z",
     "shell.execute_reply.started": "2022-02-14T13:44:46.174829Z"
    },
    "papermill": {
     "duration": 0.075011,
     "end_time": "2022-02-14T14:32:01.405228",
     "exception": false,
     "start_time": "2022-02-14T14:32:01.330217",
     "status": "completed"
    },
    "tags": []
   },
   "outputs": [
    {
     "data": {
      "text/html": [
       "<div>\n",
       "<style scoped>\n",
       "    .dataframe tbody tr th:only-of-type {\n",
       "        vertical-align: middle;\n",
       "    }\n",
       "\n",
       "    .dataframe tbody tr th {\n",
       "        vertical-align: top;\n",
       "    }\n",
       "\n",
       "    .dataframe thead th {\n",
       "        text-align: right;\n",
       "    }\n",
       "</style>\n",
       "<table border=\"1\" class=\"dataframe\">\n",
       "  <thead>\n",
       "    <tr style=\"text-align: right;\">\n",
       "      <th></th>\n",
       "      <th>t_dat</th>\n",
       "      <th>customer_id</th>\n",
       "      <th>article_id</th>\n",
       "      <th>price</th>\n",
       "      <th>sales_channel_id</th>\n",
       "    </tr>\n",
       "  </thead>\n",
       "  <tbody>\n",
       "    <tr>\n",
       "      <th>0</th>\n",
       "      <td>2018-09-20</td>\n",
       "      <td>000058a12d5b43e67d225668fa1f8d618c13dc232df0ca...</td>\n",
       "      <td>663713001</td>\n",
       "      <td>0.0508</td>\n",
       "      <td>2</td>\n",
       "    </tr>\n",
       "    <tr>\n",
       "      <th>1</th>\n",
       "      <td>2018-09-20</td>\n",
       "      <td>000058a12d5b43e67d225668fa1f8d618c13dc232df0ca...</td>\n",
       "      <td>541518023</td>\n",
       "      <td>0.0305</td>\n",
       "      <td>2</td>\n",
       "    </tr>\n",
       "    <tr>\n",
       "      <th>2</th>\n",
       "      <td>2018-09-20</td>\n",
       "      <td>00007d2de826758b65a93dd24ce629ed66842531df6699...</td>\n",
       "      <td>505221004</td>\n",
       "      <td>0.0152</td>\n",
       "      <td>2</td>\n",
       "    </tr>\n",
       "    <tr>\n",
       "      <th>3</th>\n",
       "      <td>2018-09-20</td>\n",
       "      <td>00007d2de826758b65a93dd24ce629ed66842531df6699...</td>\n",
       "      <td>685687003</td>\n",
       "      <td>0.0169</td>\n",
       "      <td>2</td>\n",
       "    </tr>\n",
       "    <tr>\n",
       "      <th>4</th>\n",
       "      <td>2018-09-20</td>\n",
       "      <td>00007d2de826758b65a93dd24ce629ed66842531df6699...</td>\n",
       "      <td>685687004</td>\n",
       "      <td>0.0169</td>\n",
       "      <td>2</td>\n",
       "    </tr>\n",
       "  </tbody>\n",
       "</table>\n",
       "</div>"
      ],
      "text/plain": [
       "        t_dat                                        customer_id  article_id  \\\n",
       "0  2018-09-20  000058a12d5b43e67d225668fa1f8d618c13dc232df0ca...   663713001   \n",
       "1  2018-09-20  000058a12d5b43e67d225668fa1f8d618c13dc232df0ca...   541518023   \n",
       "2  2018-09-20  00007d2de826758b65a93dd24ce629ed66842531df6699...   505221004   \n",
       "3  2018-09-20  00007d2de826758b65a93dd24ce629ed66842531df6699...   685687003   \n",
       "4  2018-09-20  00007d2de826758b65a93dd24ce629ed66842531df6699...   685687004   \n",
       "\n",
       "   price  sales_channel_id  \n",
       "0 0.0508                 2  \n",
       "1 0.0305                 2  \n",
       "2 0.0152                 2  \n",
       "3 0.0169                 2  \n",
       "4 0.0169                 2  "
      ]
     },
     "execution_count": 25,
     "metadata": {},
     "output_type": "execute_result"
    }
   ],
   "source": [
    "transactions.head()"
   ]
  },
  {
   "cell_type": "code",
   "execution_count": 40,
   "id": "f973c5b7",
   "metadata": {},
   "outputs": [
    {
     "data": {
      "text/plain": [
       "'2018-09-20'"
      ]
     },
     "execution_count": 40,
     "metadata": {},
     "output_type": "execute_result"
    }
   ],
   "source": [
    "transactions.t_dat.min()"
   ]
  },
  {
   "cell_type": "code",
   "execution_count": 41,
   "id": "7cc722c9",
   "metadata": {},
   "outputs": [
    {
     "data": {
      "text/plain": [
       "'2020-09-22'"
      ]
     },
     "execution_count": 41,
     "metadata": {},
     "output_type": "execute_result"
    }
   ],
   "source": [
    "transactions.t_dat.max()"
   ]
  },
  {
   "cell_type": "code",
   "execution_count": 27,
   "id": "a3d9145a",
   "metadata": {
    "execution": {
     "iopub.execute_input": "2022-02-14T14:32:01.532560Z",
     "iopub.status.busy": "2022-02-14T14:32:01.531839Z",
     "iopub.status.idle": "2022-02-14T14:32:06.317573Z",
     "shell.execute_reply": "2022-02-14T14:32:06.317028Z",
     "shell.execute_reply.started": "2022-02-14T13:44:32.406548Z"
    },
    "papermill": {
     "duration": 4.850745,
     "end_time": "2022-02-14T14:32:06.317748",
     "exception": false,
     "start_time": "2022-02-14T14:32:01.467003",
     "status": "completed"
    },
    "tags": []
   },
   "outputs": [
    {
     "data": {
      "image/png": "[encoded data removed]",
      "text/plain": [
       "<Figure size 720x360 with 1 Axes>"
      ]
     },
     "metadata": {},
     "output_type": "display_data"
    }
   ],
   "source": [
    "sns.set_style(\"darkgrid\")\n",
    "f, ax = plt.subplots(figsize=(10,5))\n",
    "ax = sns.boxplot(data=transactions, x='price', color='orange')\n",
    "ax.set_xlabel('Price outliers')\n",
    "plt.show()"
   ]
  },
  {
   "cell_type": "markdown",
   "id": "e44ddc28",
   "metadata": {
    "papermill": {
     "duration": 0.06274,
     "end_time": "2022-02-14T14:32:06.443845",
     "exception": false,
     "start_time": "2022-02-14T14:32:06.381105",
     "status": "completed"
    },
    "tags": []
   },
   "source": [
    "**<span> Top 10 customers by num of transactions. </span>**"
   ]
  },
  {
   "cell_type": "code",
   "execution_count": 28,
   "id": "d777f803",
   "metadata": {
    "execution": {
     "iopub.execute_input": "2022-02-14T14:32:06.575910Z",
     "iopub.status.busy": "2022-02-14T14:32:06.575186Z",
     "iopub.status.idle": "2022-02-14T14:32:24.186801Z",
     "shell.execute_reply": "2022-02-14T14:32:24.185727Z",
     "shell.execute_reply.started": "2022-02-08T16:29:58.36872Z"
    },
    "jupyter": {
     "source_hidden": true
    },
    "papermill": {
     "duration": 17.680288,
     "end_time": "2022-02-14T14:32:24.186975",
     "exception": false,
     "start_time": "2022-02-14T14:32:06.506687",
     "status": "completed"
    },
    "tags": []
   },
   "outputs": [],
   "source": [
    "transactions_byid = transactions.groupby('customer_id').count()"
   ]
  },
  {
   "cell_type": "code",
   "execution_count": 60,
   "id": "9ba7a32c",
   "metadata": {},
   "outputs": [
    {
     "data": {
      "text/html": [
       "<div>\n",
       "<style scoped>\n",
       "    .dataframe tbody tr th:only-of-type {\n",
       "        vertical-align: middle;\n",
       "    }\n",
       "\n",
       "    .dataframe tbody tr th {\n",
       "        vertical-align: top;\n",
       "    }\n",
       "\n",
       "    .dataframe thead th {\n",
       "        text-align: right;\n",
       "    }\n",
       "</style>\n",
       "<table border=\"1\" class=\"dataframe\">\n",
       "  <thead>\n",
       "    <tr style=\"text-align: right;\">\n",
       "      <th></th>\n",
       "      <th>t_dat</th>\n",
       "      <th>article_id</th>\n",
       "      <th>price</th>\n",
       "      <th>sales_channel_id</th>\n",
       "    </tr>\n",
       "    <tr>\n",
       "      <th>customer_id</th>\n",
       "      <th></th>\n",
       "      <th></th>\n",
       "      <th></th>\n",
       "      <th></th>\n",
       "    </tr>\n",
       "  </thead>\n",
       "  <tbody>\n",
       "    <tr>\n",
       "      <th>00000dbacae5abe5e23885899a1fa44253a17956c6d1c3d25f88aa139fdfc657</th>\n",
       "      <td>21</td>\n",
       "      <td>21</td>\n",
       "      <td>21</td>\n",
       "      <td>21</td>\n",
       "    </tr>\n",
       "    <tr>\n",
       "      <th>0000423b00ade91418cceaf3b26c6af3dd342b51fd051eec9c12fb36984420fa</th>\n",
       "      <td>86</td>\n",
       "      <td>86</td>\n",
       "      <td>86</td>\n",
       "      <td>86</td>\n",
       "    </tr>\n",
       "    <tr>\n",
       "      <th>000058a12d5b43e67d225668fa1f8d618c13dc232df0cad8ffe7ad4a1091e318</th>\n",
       "      <td>18</td>\n",
       "      <td>18</td>\n",
       "      <td>18</td>\n",
       "      <td>18</td>\n",
       "    </tr>\n",
       "    <tr>\n",
       "      <th>00005ca1c9ed5f5146b52ac8639a40ca9d57aeff4d1bd2c5feb1ca5dff07c43e</th>\n",
       "      <td>2</td>\n",
       "      <td>2</td>\n",
       "      <td>2</td>\n",
       "      <td>2</td>\n",
       "    </tr>\n",
       "    <tr>\n",
       "      <th>00006413d8573cd20ed7128e53b7b13819fe5cfc2d801fe7fc0f26dd8d65a85a</th>\n",
       "      <td>13</td>\n",
       "      <td>13</td>\n",
       "      <td>13</td>\n",
       "      <td>13</td>\n",
       "    </tr>\n",
       "    <tr>\n",
       "      <th>...</th>\n",
       "      <td>...</td>\n",
       "      <td>...</td>\n",
       "      <td>...</td>\n",
       "      <td>...</td>\n",
       "    </tr>\n",
       "    <tr>\n",
       "      <th>ffffbbf78b6eaac697a8a5dfbfd2bfa8113ee5b403e4747568cac33e8c541831</th>\n",
       "      <td>51</td>\n",
       "      <td>51</td>\n",
       "      <td>51</td>\n",
       "      <td>51</td>\n",
       "    </tr>\n",
       "    <tr>\n",
       "      <th>ffffcd5046a6143d29a04fb8c424ce494a76e5cdf4fab53481233731b5c4f8b7</th>\n",
       "      <td>84</td>\n",
       "      <td>84</td>\n",
       "      <td>84</td>\n",
       "      <td>84</td>\n",
       "    </tr>\n",
       "    <tr>\n",
       "      <th>ffffcf35913a0bee60e8741cb2b4e78b8a98ee5ff2e6a1778d0116cffd259264</th>\n",
       "      <td>45</td>\n",
       "      <td>45</td>\n",
       "      <td>45</td>\n",
       "      <td>45</td>\n",
       "    </tr>\n",
       "    <tr>\n",
       "      <th>ffffd7744cebcf3aca44ae7049d2a94b87074c3d4ffe38b2236865d949d4df6a</th>\n",
       "      <td>7</td>\n",
       "      <td>7</td>\n",
       "      <td>7</td>\n",
       "      <td>7</td>\n",
       "    </tr>\n",
       "    <tr>\n",
       "      <th>ffffd9ac14e89946416d80e791d064701994755c3ab686a1eaf3458c36f52241</th>\n",
       "      <td>1</td>\n",
       "      <td>1</td>\n",
       "      <td>1</td>\n",
       "      <td>1</td>\n",
       "    </tr>\n",
       "  </tbody>\n",
       "</table>\n",
       "<p>1362281 rows × 4 columns</p>\n",
       "</div>"
      ],
      "text/plain": [
       "                                                    t_dat  article_id  price  \\\n",
       "customer_id                                                                    \n",
       "00000dbacae5abe5e23885899a1fa44253a17956c6d1c3d...     21          21     21   \n",
       "0000423b00ade91418cceaf3b26c6af3dd342b51fd051ee...     86          86     86   \n",
       "000058a12d5b43e67d225668fa1f8d618c13dc232df0cad...     18          18     18   \n",
       "00005ca1c9ed5f5146b52ac8639a40ca9d57aeff4d1bd2c...      2           2      2   \n",
       "00006413d8573cd20ed7128e53b7b13819fe5cfc2d801fe...     13          13     13   \n",
       "...                                                   ...         ...    ...   \n",
       "ffffbbf78b6eaac697a8a5dfbfd2bfa8113ee5b403e4747...     51          51     51   \n",
       "ffffcd5046a6143d29a04fb8c424ce494a76e5cdf4fab53...     84          84     84   \n",
       "ffffcf35913a0bee60e8741cb2b4e78b8a98ee5ff2e6a17...     45          45     45   \n",
       "ffffd7744cebcf3aca44ae7049d2a94b87074c3d4ffe38b...      7           7      7   \n",
       "ffffd9ac14e89946416d80e791d064701994755c3ab686a...      1           1      1   \n",
       "\n",
       "                                                    sales_channel_id  \n",
       "customer_id                                                           \n",
       "00000dbacae5abe5e23885899a1fa44253a17956c6d1c3d...                21  \n",
       "0000423b00ade91418cceaf3b26c6af3dd342b51fd051ee...                86  \n",
       "000058a12d5b43e67d225668fa1f8d618c13dc232df0cad...                18  \n",
       "00005ca1c9ed5f5146b52ac8639a40ca9d57aeff4d1bd2c...                 2  \n",
       "00006413d8573cd20ed7128e53b7b13819fe5cfc2d801fe...                13  \n",
       "...                                                              ...  \n",
       "ffffbbf78b6eaac697a8a5dfbfd2bfa8113ee5b403e4747...                51  \n",
       "ffffcd5046a6143d29a04fb8c424ce494a76e5cdf4fab53...                84  \n",
       "ffffcf35913a0bee60e8741cb2b4e78b8a98ee5ff2e6a17...                45  \n",
       "ffffd7744cebcf3aca44ae7049d2a94b87074c3d4ffe38b...                 7  \n",
       "ffffd9ac14e89946416d80e791d064701994755c3ab686a...                 1  \n",
       "\n",
       "[1362281 rows x 4 columns]"
      ]
     },
     "execution_count": 60,
     "metadata": {},
     "output_type": "execute_result"
    }
   ],
   "source": [
    "transactions_byid"
   ]
  },
  {
   "cell_type": "code",
   "execution_count": 59,
   "id": "8d529f38",
   "metadata": {},
   "outputs": [
    {
     "data": {
      "text/plain": [
       "t_dat              23.3346\n",
       "article_id         23.3346\n",
       "price              23.3346\n",
       "sales_channel_id   23.3346\n",
       "dtype: float64"
      ]
     },
     "execution_count": 59,
     "metadata": {},
     "output_type": "execute_result"
    }
   ],
   "source": [
    "transactions.groupby('customer_id').count().mean()"
   ]
  },
  {
   "cell_type": "code",
   "execution_count": 29,
   "id": "ffcb0bcb",
   "metadata": {
    "execution": {
     "iopub.execute_input": "2022-02-14T14:32:24.315530Z",
     "iopub.status.busy": "2022-02-14T14:32:24.314534Z",
     "iopub.status.idle": "2022-02-14T14:32:24.833742Z",
     "shell.execute_reply": "2022-02-14T14:32:24.833201Z",
     "shell.execute_reply.started": "2022-02-08T16:30:17.723473Z"
    },
    "jupyter": {
     "source_hidden": true
    },
    "papermill": {
     "duration": 0.58441,
     "end_time": "2022-02-14T14:32:24.833898",
     "exception": false,
     "start_time": "2022-02-14T14:32:24.249488",
     "status": "completed"
    },
    "tags": []
   },
   "outputs": [
    {
     "data": {
      "text/plain": [
       "customer_id\n",
       "be1981ab818cf4ef6765b2ecaea7a2cbf14ccd6e8a7ee985513d9e8e53c6d91b    1895\n",
       "b4db5e5259234574edfff958e170fe3a5e13b6f146752ca066abca3c156acc71    1441\n",
       "49beaacac0c7801c2ce2d189efe525fe80b5d37e46ed05b50a4cd88e34d0748f    1364\n",
       "a65f77281a528bf5c1e9f270141d601d116e1df33bf9df512f495ee06647a9cc    1361\n",
       "cd04ec2726dd58a8c753e0d6423e57716fd9ebcf2f14ed6012e7e5bea016b4d6    1237\n",
       "55d15396193dfd45836af3a6269a079efea339e875eff42cc0c228b002548a9d    1208\n",
       "c140410d72a41ee5e2e3ba3d7f5a860f337f1b5e41c27cf9bda5517c8774f8fa    1170\n",
       "8df45859ccd71ef1e48e2ee9d1c65d5728c31c46ae957d659fa4e5c3af6cc076    1169\n",
       "03d0011487606c37c1b1ed147fc72f285a50c05f00b9712e0fc3da400c864296    1157\n",
       "6cc121e5cc202d2bf344ffe795002bdbf87178054bcda2e57161f0ef810a4b55    1143\n",
       "Name: price, dtype: int64"
      ]
     },
     "execution_count": 29,
     "metadata": {},
     "output_type": "execute_result"
    }
   ],
   "source": [
    "transactions_byid.sort_values(by='price', ascending=False)['price'][:10]"
   ]
  },
  {
   "cell_type": "code",
   "execution_count": 30,
   "id": "053fe005",
   "metadata": {},
   "outputs": [
    {
     "data": {
      "text/html": [
       "<div>\n",
       "<style scoped>\n",
       "    .dataframe tbody tr th:only-of-type {\n",
       "        vertical-align: middle;\n",
       "    }\n",
       "\n",
       "    .dataframe tbody tr th {\n",
       "        vertical-align: top;\n",
       "    }\n",
       "\n",
       "    .dataframe thead th {\n",
       "        text-align: right;\n",
       "    }\n",
       "</style>\n",
       "<table border=\"1\" class=\"dataframe\">\n",
       "  <thead>\n",
       "    <tr style=\"text-align: right;\">\n",
       "      <th></th>\n",
       "      <th>t_dat</th>\n",
       "      <th>article_id</th>\n",
       "      <th>price</th>\n",
       "      <th>sales_channel_id</th>\n",
       "    </tr>\n",
       "    <tr>\n",
       "      <th>customer_id</th>\n",
       "      <th></th>\n",
       "      <th></th>\n",
       "      <th></th>\n",
       "      <th></th>\n",
       "    </tr>\n",
       "  </thead>\n",
       "  <tbody>\n",
       "    <tr>\n",
       "      <th>00000dbacae5abe5e23885899a1fa44253a17956c6d1c3d25f88aa139fdfc657</th>\n",
       "      <td>21</td>\n",
       "      <td>21</td>\n",
       "      <td>21</td>\n",
       "      <td>21</td>\n",
       "    </tr>\n",
       "    <tr>\n",
       "      <th>0000423b00ade91418cceaf3b26c6af3dd342b51fd051eec9c12fb36984420fa</th>\n",
       "      <td>86</td>\n",
       "      <td>86</td>\n",
       "      <td>86</td>\n",
       "      <td>86</td>\n",
       "    </tr>\n",
       "    <tr>\n",
       "      <th>000058a12d5b43e67d225668fa1f8d618c13dc232df0cad8ffe7ad4a1091e318</th>\n",
       "      <td>18</td>\n",
       "      <td>18</td>\n",
       "      <td>18</td>\n",
       "      <td>18</td>\n",
       "    </tr>\n",
       "    <tr>\n",
       "      <th>00005ca1c9ed5f5146b52ac8639a40ca9d57aeff4d1bd2c5feb1ca5dff07c43e</th>\n",
       "      <td>2</td>\n",
       "      <td>2</td>\n",
       "      <td>2</td>\n",
       "      <td>2</td>\n",
       "    </tr>\n",
       "    <tr>\n",
       "      <th>00006413d8573cd20ed7128e53b7b13819fe5cfc2d801fe7fc0f26dd8d65a85a</th>\n",
       "      <td>13</td>\n",
       "      <td>13</td>\n",
       "      <td>13</td>\n",
       "      <td>13</td>\n",
       "    </tr>\n",
       "    <tr>\n",
       "      <th>...</th>\n",
       "      <td>...</td>\n",
       "      <td>...</td>\n",
       "      <td>...</td>\n",
       "      <td>...</td>\n",
       "    </tr>\n",
       "    <tr>\n",
       "      <th>ffffbbf78b6eaac697a8a5dfbfd2bfa8113ee5b403e4747568cac33e8c541831</th>\n",
       "      <td>51</td>\n",
       "      <td>51</td>\n",
       "      <td>51</td>\n",
       "      <td>51</td>\n",
       "    </tr>\n",
       "    <tr>\n",
       "      <th>ffffcd5046a6143d29a04fb8c424ce494a76e5cdf4fab53481233731b5c4f8b7</th>\n",
       "      <td>84</td>\n",
       "      <td>84</td>\n",
       "      <td>84</td>\n",
       "      <td>84</td>\n",
       "    </tr>\n",
       "    <tr>\n",
       "      <th>ffffcf35913a0bee60e8741cb2b4e78b8a98ee5ff2e6a1778d0116cffd259264</th>\n",
       "      <td>45</td>\n",
       "      <td>45</td>\n",
       "      <td>45</td>\n",
       "      <td>45</td>\n",
       "    </tr>\n",
       "    <tr>\n",
       "      <th>ffffd7744cebcf3aca44ae7049d2a94b87074c3d4ffe38b2236865d949d4df6a</th>\n",
       "      <td>7</td>\n",
       "      <td>7</td>\n",
       "      <td>7</td>\n",
       "      <td>7</td>\n",
       "    </tr>\n",
       "    <tr>\n",
       "      <th>ffffd9ac14e89946416d80e791d064701994755c3ab686a1eaf3458c36f52241</th>\n",
       "      <td>1</td>\n",
       "      <td>1</td>\n",
       "      <td>1</td>\n",
       "      <td>1</td>\n",
       "    </tr>\n",
       "  </tbody>\n",
       "</table>\n",
       "<p>1362281 rows × 4 columns</p>\n",
       "</div>"
      ],
      "text/plain": [
       "                                                    t_dat  article_id  price  \\\n",
       "customer_id                                                                    \n",
       "00000dbacae5abe5e23885899a1fa44253a17956c6d1c3d...     21          21     21   \n",
       "0000423b00ade91418cceaf3b26c6af3dd342b51fd051ee...     86          86     86   \n",
       "000058a12d5b43e67d225668fa1f8d618c13dc232df0cad...     18          18     18   \n",
       "00005ca1c9ed5f5146b52ac8639a40ca9d57aeff4d1bd2c...      2           2      2   \n",
       "00006413d8573cd20ed7128e53b7b13819fe5cfc2d801fe...     13          13     13   \n",
       "...                                                   ...         ...    ...   \n",
       "ffffbbf78b6eaac697a8a5dfbfd2bfa8113ee5b403e4747...     51          51     51   \n",
       "ffffcd5046a6143d29a04fb8c424ce494a76e5cdf4fab53...     84          84     84   \n",
       "ffffcf35913a0bee60e8741cb2b4e78b8a98ee5ff2e6a17...     45          45     45   \n",
       "ffffd7744cebcf3aca44ae7049d2a94b87074c3d4ffe38b...      7           7      7   \n",
       "ffffd9ac14e89946416d80e791d064701994755c3ab686a...      1           1      1   \n",
       "\n",
       "                                                    sales_channel_id  \n",
       "customer_id                                                           \n",
       "00000dbacae5abe5e23885899a1fa44253a17956c6d1c3d...                21  \n",
       "0000423b00ade91418cceaf3b26c6af3dd342b51fd051ee...                86  \n",
       "000058a12d5b43e67d225668fa1f8d618c13dc232df0cad...                18  \n",
       "00005ca1c9ed5f5146b52ac8639a40ca9d57aeff4d1bd2c...                 2  \n",
       "00006413d8573cd20ed7128e53b7b13819fe5cfc2d801fe...                13  \n",
       "...                                                              ...  \n",
       "ffffbbf78b6eaac697a8a5dfbfd2bfa8113ee5b403e4747...                51  \n",
       "ffffcd5046a6143d29a04fb8c424ce494a76e5cdf4fab53...                84  \n",
       "ffffcf35913a0bee60e8741cb2b4e78b8a98ee5ff2e6a17...                45  \n",
       "ffffd7744cebcf3aca44ae7049d2a94b87074c3d4ffe38b...                 7  \n",
       "ffffd9ac14e89946416d80e791d064701994755c3ab686a...                 1  \n",
       "\n",
       "[1362281 rows x 4 columns]"
      ]
     },
     "execution_count": 30,
     "metadata": {},
     "output_type": "execute_result"
    }
   ],
   "source": [
    "transactions_byid"
   ]
  },
  {
   "cell_type": "code",
   "execution_count": 31,
   "id": "03510b73",
   "metadata": {},
   "outputs": [
    {
     "data": {
      "text/html": [
       "<div>\n",
       "<style scoped>\n",
       "    .dataframe tbody tr th:only-of-type {\n",
       "        vertical-align: middle;\n",
       "    }\n",
       "\n",
       "    .dataframe tbody tr th {\n",
       "        vertical-align: top;\n",
       "    }\n",
       "\n",
       "    .dataframe thead th {\n",
       "        text-align: right;\n",
       "    }\n",
       "</style>\n",
       "<table border=\"1\" class=\"dataframe\">\n",
       "  <thead>\n",
       "    <tr style=\"text-align: right;\">\n",
       "      <th></th>\n",
       "      <th>t_dat</th>\n",
       "      <th>article_id</th>\n",
       "      <th>price</th>\n",
       "      <th>sales_channel_id</th>\n",
       "    </tr>\n",
       "  </thead>\n",
       "  <tbody>\n",
       "    <tr>\n",
       "      <th>count</th>\n",
       "      <td>1362281.0000</td>\n",
       "      <td>1362281.0000</td>\n",
       "      <td>1362281.0000</td>\n",
       "      <td>1362281.0000</td>\n",
       "    </tr>\n",
       "    <tr>\n",
       "      <th>mean</th>\n",
       "      <td>23.3346</td>\n",
       "      <td>23.3346</td>\n",
       "      <td>23.3346</td>\n",
       "      <td>23.3346</td>\n",
       "    </tr>\n",
       "    <tr>\n",
       "      <th>std</th>\n",
       "      <td>39.2423</td>\n",
       "      <td>39.2423</td>\n",
       "      <td>39.2423</td>\n",
       "      <td>39.2423</td>\n",
       "    </tr>\n",
       "    <tr>\n",
       "      <th>min</th>\n",
       "      <td>1.0000</td>\n",
       "      <td>1.0000</td>\n",
       "      <td>1.0000</td>\n",
       "      <td>1.0000</td>\n",
       "    </tr>\n",
       "    <tr>\n",
       "      <th>25%</th>\n",
       "      <td>3.0000</td>\n",
       "      <td>3.0000</td>\n",
       "      <td>3.0000</td>\n",
       "      <td>3.0000</td>\n",
       "    </tr>\n",
       "    <tr>\n",
       "      <th>50%</th>\n",
       "      <td>9.0000</td>\n",
       "      <td>9.0000</td>\n",
       "      <td>9.0000</td>\n",
       "      <td>9.0000</td>\n",
       "    </tr>\n",
       "    <tr>\n",
       "      <th>75%</th>\n",
       "      <td>27.0000</td>\n",
       "      <td>27.0000</td>\n",
       "      <td>27.0000</td>\n",
       "      <td>27.0000</td>\n",
       "    </tr>\n",
       "    <tr>\n",
       "      <th>max</th>\n",
       "      <td>1895.0000</td>\n",
       "      <td>1895.0000</td>\n",
       "      <td>1895.0000</td>\n",
       "      <td>1895.0000</td>\n",
       "    </tr>\n",
       "  </tbody>\n",
       "</table>\n",
       "</div>"
      ],
      "text/plain": [
       "             t_dat   article_id        price  sales_channel_id\n",
       "count 1362281.0000 1362281.0000 1362281.0000      1362281.0000\n",
       "mean       23.3346      23.3346      23.3346           23.3346\n",
       "std        39.2423      39.2423      39.2423           39.2423\n",
       "min         1.0000       1.0000       1.0000            1.0000\n",
       "25%         3.0000       3.0000       3.0000            3.0000\n",
       "50%         9.0000       9.0000       9.0000            9.0000\n",
       "75%        27.0000      27.0000      27.0000           27.0000\n",
       "max      1895.0000    1895.0000    1895.0000         1895.0000"
      ]
     },
     "execution_count": 31,
     "metadata": {},
     "output_type": "execute_result"
    }
   ],
   "source": [
    "transactions_byid.describe()"
   ]
  },
  {
   "cell_type": "code",
   "execution_count": 32,
   "id": "7c28da8f",
   "metadata": {},
   "outputs": [
    {
     "data": {
      "text/plain": [
       "Index(['t_dat', 'article_id', 'price', 'sales_channel_id'], dtype='object')"
      ]
     },
     "execution_count": 32,
     "metadata": {},
     "output_type": "execute_result"
    }
   ],
   "source": [
    "transactions_byid.columns"
   ]
  },
  {
   "cell_type": "code",
   "execution_count": 33,
   "id": "fb565a1e",
   "metadata": {},
   "outputs": [
    {
     "data": {
      "text/html": [
       "<div>\n",
       "<style scoped>\n",
       "    .dataframe tbody tr th:only-of-type {\n",
       "        vertical-align: middle;\n",
       "    }\n",
       "\n",
       "    .dataframe tbody tr th {\n",
       "        vertical-align: top;\n",
       "    }\n",
       "\n",
       "    .dataframe thead th {\n",
       "        text-align: right;\n",
       "    }\n",
       "</style>\n",
       "<table border=\"1\" class=\"dataframe\">\n",
       "  <thead>\n",
       "    <tr style=\"text-align: right;\">\n",
       "      <th></th>\n",
       "      <th>t_dat</th>\n",
       "      <th>customer_id</th>\n",
       "      <th>article_id</th>\n",
       "      <th>price</th>\n",
       "      <th>sales_channel_id</th>\n",
       "    </tr>\n",
       "  </thead>\n",
       "  <tbody>\n",
       "    <tr>\n",
       "      <th>83738</th>\n",
       "      <td>2018-09-21</td>\n",
       "      <td>be1981ab818cf4ef6765b2ecaea7a2cbf14ccd6e8a7ee9...</td>\n",
       "      <td>658506001</td>\n",
       "      <td>0.0593</td>\n",
       "      <td>1</td>\n",
       "    </tr>\n",
       "    <tr>\n",
       "      <th>83739</th>\n",
       "      <td>2018-09-21</td>\n",
       "      <td>be1981ab818cf4ef6765b2ecaea7a2cbf14ccd6e8a7ee9...</td>\n",
       "      <td>662980002</td>\n",
       "      <td>0.0339</td>\n",
       "      <td>1</td>\n",
       "    </tr>\n",
       "    <tr>\n",
       "      <th>109160</th>\n",
       "      <td>2018-09-22</td>\n",
       "      <td>be1981ab818cf4ef6765b2ecaea7a2cbf14ccd6e8a7ee9...</td>\n",
       "      <td>667709001</td>\n",
       "      <td>0.0508</td>\n",
       "      <td>2</td>\n",
       "    </tr>\n",
       "    <tr>\n",
       "      <th>109161</th>\n",
       "      <td>2018-09-22</td>\n",
       "      <td>be1981ab818cf4ef6765b2ecaea7a2cbf14ccd6e8a7ee9...</td>\n",
       "      <td>685687001</td>\n",
       "      <td>0.0169</td>\n",
       "      <td>2</td>\n",
       "    </tr>\n",
       "    <tr>\n",
       "      <th>109162</th>\n",
       "      <td>2018-09-22</td>\n",
       "      <td>be1981ab818cf4ef6765b2ecaea7a2cbf14ccd6e8a7ee9...</td>\n",
       "      <td>685687001</td>\n",
       "      <td>0.0169</td>\n",
       "      <td>2</td>\n",
       "    </tr>\n",
       "    <tr>\n",
       "      <th>...</th>\n",
       "      <td>...</td>\n",
       "      <td>...</td>\n",
       "      <td>...</td>\n",
       "      <td>...</td>\n",
       "      <td>...</td>\n",
       "    </tr>\n",
       "    <tr>\n",
       "      <th>31541312</th>\n",
       "      <td>2020-09-15</td>\n",
       "      <td>be1981ab818cf4ef6765b2ecaea7a2cbf14ccd6e8a7ee9...</td>\n",
       "      <td>886566001</td>\n",
       "      <td>0.0339</td>\n",
       "      <td>2</td>\n",
       "    </tr>\n",
       "    <tr>\n",
       "      <th>31541313</th>\n",
       "      <td>2020-09-15</td>\n",
       "      <td>be1981ab818cf4ef6765b2ecaea7a2cbf14ccd6e8a7ee9...</td>\n",
       "      <td>886566001</td>\n",
       "      <td>0.0339</td>\n",
       "      <td>2</td>\n",
       "    </tr>\n",
       "    <tr>\n",
       "      <th>31541314</th>\n",
       "      <td>2020-09-15</td>\n",
       "      <td>be1981ab818cf4ef6765b2ecaea7a2cbf14ccd6e8a7ee9...</td>\n",
       "      <td>904965002</td>\n",
       "      <td>0.0424</td>\n",
       "      <td>2</td>\n",
       "    </tr>\n",
       "    <tr>\n",
       "      <th>31541315</th>\n",
       "      <td>2020-09-15</td>\n",
       "      <td>be1981ab818cf4ef6765b2ecaea7a2cbf14ccd6e8a7ee9...</td>\n",
       "      <td>926502001</td>\n",
       "      <td>0.0593</td>\n",
       "      <td>2</td>\n",
       "    </tr>\n",
       "    <tr>\n",
       "      <th>31541316</th>\n",
       "      <td>2020-09-15</td>\n",
       "      <td>be1981ab818cf4ef6765b2ecaea7a2cbf14ccd6e8a7ee9...</td>\n",
       "      <td>879291001</td>\n",
       "      <td>0.0220</td>\n",
       "      <td>2</td>\n",
       "    </tr>\n",
       "  </tbody>\n",
       "</table>\n",
       "<p>1895 rows × 5 columns</p>\n",
       "</div>"
      ],
      "text/plain": [
       "               t_dat                                        customer_id  \\\n",
       "83738     2018-09-21  be1981ab818cf4ef6765b2ecaea7a2cbf14ccd6e8a7ee9...   \n",
       "83739     2018-09-21  be1981ab818cf4ef6765b2ecaea7a2cbf14ccd6e8a7ee9...   \n",
       "109160    2018-09-22  be1981ab818cf4ef6765b2ecaea7a2cbf14ccd6e8a7ee9...   \n",
       "109161    2018-09-22  be1981ab818cf4ef6765b2ecaea7a2cbf14ccd6e8a7ee9...   \n",
       "109162    2018-09-22  be1981ab818cf4ef6765b2ecaea7a2cbf14ccd6e8a7ee9...   \n",
       "...              ...                                                ...   \n",
       "31541312  2020-09-15  be1981ab818cf4ef6765b2ecaea7a2cbf14ccd6e8a7ee9...   \n",
       "31541313  2020-09-15  be1981ab818cf4ef6765b2ecaea7a2cbf14ccd6e8a7ee9...   \n",
       "31541314  2020-09-15  be1981ab818cf4ef6765b2ecaea7a2cbf14ccd6e8a7ee9...   \n",
       "31541315  2020-09-15  be1981ab818cf4ef6765b2ecaea7a2cbf14ccd6e8a7ee9...   \n",
       "31541316  2020-09-15  be1981ab818cf4ef6765b2ecaea7a2cbf14ccd6e8a7ee9...   \n",
       "\n",
       "          article_id  price  sales_channel_id  \n",
       "83738      658506001 0.0593                 1  \n",
       "83739      662980002 0.0339                 1  \n",
       "109160     667709001 0.0508                 2  \n",
       "109161     685687001 0.0169                 2  \n",
       "109162     685687001 0.0169                 2  \n",
       "...              ...    ...               ...  \n",
       "31541312   886566001 0.0339                 2  \n",
       "31541313   886566001 0.0339                 2  \n",
       "31541314   904965002 0.0424                 2  \n",
       "31541315   926502001 0.0593                 2  \n",
       "31541316   879291001 0.0220                 2  \n",
       "\n",
       "[1895 rows x 5 columns]"
      ]
     },
     "execution_count": 33,
     "metadata": {},
     "output_type": "execute_result"
    }
   ],
   "source": [
    "transactions[transactions['customer_id'] == 'be1981ab818cf4ef6765b2ecaea7a2cbf14ccd6e8a7ee985513d9e8e53c6d91b']"
   ]
  },
  {
   "cell_type": "code",
   "execution_count": 51,
   "id": "451d8d99",
   "metadata": {},
   "outputs": [],
   "source": [
    "def plot_transaction(transactions):\n",
    "    article_cnt = transactions.groupby([\"t_dat\"])[\"article_id\"].count().reset_index() #.sample(100_000)\n",
    "    article_cnt[\"t_dat\"] = article_cnt[\"t_dat\"].apply(lambda x: datetime.strptime(x, '%Y-%m-%d'))\n",
    "    article_cnt.columns = [\"Date\", \"Transactions\"]\n",
    "\n",
    "    fig, ax = plt.subplots(1, 1, figsize=(16,6))\n",
    "    plt.plot(article_cnt[\"Date\"], article_cnt[\"Transactions\"], color=\"Darkgreen\")\n",
    "    plt.xlabel(\"Date\")\n",
    "    plt.ylabel(\"Transactions\")\n",
    "    plt.title(f\"Transactions per day (100k sample; to get the real volume, please consider that real transaction count is {round(transactions.shape[0]/10.e6,2)}M)\")\n",
    "    plt.show()"
   ]
  },
  {
   "cell_type": "code",
   "execution_count": 61,
   "id": "73aff56e",
   "metadata": {},
   "outputs": [
    {
     "data": {
      "image/png": "[encoded data removed]",
      "text/plain": [
       "<Figure size 1152x432 with 1 Axes>"
      ]
     },
     "metadata": {},
     "output_type": "display_data"
    }
   ],
   "source": [
    "plot_transaction(transactions[transactions['customer_id'] == '00000dbacae5abe5e23885899a1fa44253a17956c6d1c3d25f88aa139fdfc657'])"
   ]
  },
  {
   "cell_type": "markdown",
   "id": "a04eaeea",
   "metadata": {},
   "source": [
    "#### Distribution of each transaction price"
   ]
  },
  {
   "cell_type": "code",
   "execution_count": 63,
   "id": "0308376d",
   "metadata": {},
   "outputs": [
    {
     "data": {
      "image/png": "[encoded data removed]",
      "text/plain": [
       "<Figure size 1080x504 with 1 Axes>"
      ]
     },
     "metadata": {},
     "output_type": "display_data"
    }
   ],
   "source": [
    "f, ax = plt.subplots(figsize=(15, 7))\n",
    "ax = sns.histplot(data=transactions_byid, ｘ='price', color='orange')\n",
    "ax.set_ylabel('count by each transaction price')\n",
    "ax.set_xlabel('price')\n",
    "ax.set_title('Distribution of price')\n",
    "ax.set_xlim(0,100)\n",
    "# ax.yaxis.set_ylim(labelsize=22)\n",
    "plt.show()"
   ]
  },
  {
   "cell_type": "markdown",
   "id": "d0b7f83f",
   "metadata": {
    "papermill": {
     "duration": 0.062285,
     "end_time": "2022-02-14T14:32:24.958686",
     "exception": false,
     "start_time": "2022-02-14T14:32:24.896401",
     "status": "completed"
    },
    "tags": []
   },
   "source": [
    "However, comparing prices inside groups is more accurate, because accessories and trousers prices may vary largerly"
   ]
  },
  {
   "cell_type": "markdown",
   "id": "1c746113",
   "metadata": {
    "papermill": {
     "duration": 0.062356,
     "end_time": "2022-02-14T14:32:25.083605",
     "exception": false,
     "start_time": "2022-02-14T14:32:25.021249",
     "status": "completed"
    },
    "tags": []
   },
   "source": [
    "**<span> Get subset from articles and merge it to transactions. </span>**"
   ]
  },
  {
   "cell_type": "code",
   "execution_count": 35,
   "id": "3736a913",
   "metadata": {
    "execution": {
     "iopub.execute_input": "2022-02-14T14:32:25.214461Z",
     "iopub.status.busy": "2022-02-14T14:32:25.213808Z",
     "iopub.status.idle": "2022-02-14T14:32:25.219454Z",
     "shell.execute_reply": "2022-02-14T14:32:25.218805Z",
     "shell.execute_reply.started": "2022-02-14T13:48:01.150221Z"
    },
    "papermill": {
     "duration": 0.073544,
     "end_time": "2022-02-14T14:32:25.219597",
     "exception": false,
     "start_time": "2022-02-14T14:32:25.146053",
     "status": "completed"
    },
    "tags": []
   },
   "outputs": [],
   "source": [
    "articles_for_merge = articles[['article_id', 'prod_name', 'product_type_name', 'product_group_name', 'index_name']]"
   ]
  },
  {
   "cell_type": "code",
   "execution_count": 36,
   "id": "f2ec7659",
   "metadata": {
    "execution": {
     "iopub.execute_input": "2022-02-14T14:32:26.221747Z",
     "iopub.status.busy": "2022-02-14T14:32:26.087260Z",
     "iopub.status.idle": "2022-02-14T14:32:36.756069Z",
     "shell.execute_reply": "2022-02-14T14:32:36.755323Z",
     "shell.execute_reply.started": "2022-02-14T13:48:04.493834Z"
    },
    "papermill": {
     "duration": 11.473834,
     "end_time": "2022-02-14T14:32:36.756213",
     "exception": false,
     "start_time": "2022-02-14T14:32:25.282379",
     "status": "completed"
    },
    "tags": []
   },
   "outputs": [],
   "source": [
    "articles_for_merge = transactions[['customer_id', 'article_id', 'price', 't_dat']].merge(articles_for_merge, on='article_id', how='left')"
   ]
  },
  {
   "cell_type": "markdown",
   "id": "1dc5f417",
   "metadata": {
    "papermill": {
     "duration": 0.062588,
     "end_time": "2022-02-14T14:32:36.882049",
     "exception": false,
     "start_time": "2022-02-14T14:32:36.819461",
     "status": "completed"
    },
    "tags": []
   },
   "source": [
    "**<span> Here we see outliers for group name prices. Lower/Upper/Full body have a huge price variance. I guess it could be like some unique collections, relative to casual ones. Some high price articles even belong to accessories group.</span>**"
   ]
  },
  {
   "cell_type": "code",
   "execution_count": 37,
   "id": "e6de78e0",
   "metadata": {
    "execution": {
     "iopub.execute_input": "2022-02-14T14:32:37.010547Z",
     "iopub.status.busy": "2022-02-14T14:32:37.009881Z",
     "iopub.status.idle": "2022-02-14T14:33:07.362260Z",
     "shell.execute_reply": "2022-02-14T14:33:07.362854Z",
     "shell.execute_reply.started": "2022-02-14T14:09:46.756755Z"
    },
    "papermill": {
     "duration": 30.418212,
     "end_time": "2022-02-14T14:33:07.363062",
     "exception": false,
     "start_time": "2022-02-14T14:32:36.944850",
     "status": "completed"
    },
    "tags": []
   },
   "outputs": [
    {
     "data": {
      "image/png": "[encoded data removed]",
      "text/plain": [
       "<Figure size 1800x1296 with 1 Axes>"
      ]
     },
     "metadata": {},
     "output_type": "display_data"
    }
   ],
   "source": [
    "sns.set_style(\"darkgrid\")\n",
    "f, ax = plt.subplots(figsize=(25,18))\n",
    "ax = sns.boxplot(data=articles_for_merge, x='price', y='product_group_name')\n",
    "ax.set_xlabel('Price outliers', fontsize=22)\n",
    "ax.set_ylabel('Index names', fontsize=22)\n",
    "ax.xaxis.set_tick_params(labelsize=22)\n",
    "ax.yaxis.set_tick_params(labelsize=22)\n",
    "\n",
    "plt.show()"
   ]
  },
  {
   "cell_type": "markdown",
   "id": "a4f4fa29",
   "metadata": {
    "papermill": {
     "duration": 0.069958,
     "end_time": "2022-02-14T14:33:07.501652",
     "exception": false,
     "start_time": "2022-02-14T14:33:07.431694",
     "status": "completed"
    },
    "tags": []
   },
   "source": [
    "**<span> Then look at boxplot prices according to accessories product group and find the reasons of high prices inside group.</span>**\n",
    "\n",
    "**<span> The largest outliers can be found among bags, which is logical enough. In addition, scarves and other accessories have articles with prices highly contrasting to the rest of garments.</span>**"
   ]
  },
  {
   "cell_type": "code",
   "execution_count": 38,
   "id": "98f92d18",
   "metadata": {
    "execution": {
     "iopub.execute_input": "2022-02-14T14:33:07.649068Z",
     "iopub.status.busy": "2022-02-14T14:33:07.643853Z",
     "iopub.status.idle": "2022-02-14T14:33:21.819859Z",
     "shell.execute_reply": "2022-02-14T14:33:21.819312Z",
     "shell.execute_reply.started": "2022-02-14T14:17:48.123108Z"
    },
    "papermill": {
     "duration": 14.249462,
     "end_time": "2022-02-14T14:33:21.820011",
     "exception": false,
     "start_time": "2022-02-14T14:33:07.570549",
     "status": "completed"
    },
    "tags": []
   },
   "outputs": [
    {
     "data": {
      "image/png": "[encoded data removed]",
      "text/plain": [
       "<Figure size 1800x1296 with 1 Axes>"
      ]
     },
     "metadata": {},
     "output_type": "display_data"
    }
   ],
   "source": [
    "sns.set_style(\"darkgrid\")\n",
    "f, ax = plt.subplots(figsize=(25,18))\n",
    "_ = articles_for_merge[articles_for_merge['product_group_name'] == 'Accessories']\n",
    "ax = sns.boxplot(data=_, x='price', y='product_type_name')\n",
    "ax.set_xlabel('Price outliers', fontsize=22)\n",
    "ax.set_ylabel('Index names', fontsize=22)\n",
    "ax.xaxis.set_tick_params(labelsize=22)\n",
    "ax.yaxis.set_tick_params(labelsize=22)\n",
    "del _\n",
    "\n",
    "plt.show()"
   ]
  },
  {
   "cell_type": "markdown",
   "id": "ca992a5f",
   "metadata": {
    "papermill": {
     "duration": 0.074156,
     "end_time": "2022-02-14T14:33:21.967955",
     "exception": false,
     "start_time": "2022-02-14T14:33:21.893799",
     "status": "completed"
    },
    "tags": []
   },
   "source": [
    "**<span style=\"color:#023e8a;\"> The index with the highest mean price is Ladieswear. With the lowest - children. </span>**"
   ]
  },
  {
   "cell_type": "code",
   "execution_count": null,
   "id": "76857cfa",
   "metadata": {
    "execution": {
     "iopub.execute_input": "2022-02-14T14:33:22.123444Z",
     "iopub.status.busy": "2022-02-14T14:33:22.122714Z",
     "iopub.status.idle": "2022-02-14T14:33:26.558552Z",
     "shell.execute_reply": "2022-02-14T14:33:26.558016Z",
     "shell.execute_reply.started": "2022-02-10T16:37:31.10698Z"
    },
    "jupyter": {
     "source_hidden": true
    },
    "papermill": {
     "duration": 4.517179,
     "end_time": "2022-02-14T14:33:26.558703",
     "exception": false,
     "start_time": "2022-02-14T14:33:22.041524",
     "status": "completed"
    },
    "tags": []
   },
   "outputs": [],
   "source": [
    "articles_index = articles_for_merge[['index_name', 'price']].groupby('index_name').mean()\n",
    "sns.set_style(\"darkgrid\")\n",
    "f, ax = plt.subplots(figsize=(10,5))\n",
    "ax = sns.barplot(x=articles_index.price, y=articles_index.index, color='orange', alpha=0.8)\n",
    "ax.set_xlabel('Price by index')\n",
    "ax.set_ylabel('Index')\n",
    "plt.show()"
   ]
  },
  {
   "cell_type": "markdown",
   "id": "635d4a4e",
   "metadata": {
    "papermill": {
     "duration": 0.07481,
     "end_time": "2022-02-14T14:33:26.709101",
     "exception": false,
     "start_time": "2022-02-14T14:33:26.634291",
     "status": "completed"
    },
    "tags": []
   },
   "source": [
    "**<span style=\"color:#023e8a;\"> Stationery has the lowest mean price, the highest - shoes. </span>**"
   ]
  },
  {
   "cell_type": "code",
   "execution_count": null,
   "id": "55eaf36c",
   "metadata": {
    "execution": {
     "iopub.execute_input": "2022-02-14T14:33:26.861898Z",
     "iopub.status.busy": "2022-02-14T14:33:26.861211Z",
     "iopub.status.idle": "2022-02-14T14:33:31.280576Z",
     "shell.execute_reply": "2022-02-14T14:33:31.279981Z",
     "shell.execute_reply.started": "2022-02-10T16:42:47.950657Z"
    },
    "jupyter": {
     "source_hidden": true
    },
    "papermill": {
     "duration": 4.496823,
     "end_time": "2022-02-14T14:33:31.280735",
     "exception": false,
     "start_time": "2022-02-14T14:33:26.783912",
     "status": "completed"
    },
    "tags": []
   },
   "outputs": [],
   "source": [
    "articles_index = articles_for_merge[['product_group_name', 'price']].groupby('product_group_name').mean()\n",
    "sns.set_style(\"darkgrid\")\n",
    "f, ax = plt.subplots(figsize=(10,5))\n",
    "ax = sns.barplot(x=articles_index.price, y=articles_index.index, color='orange', alpha=0.8)\n",
    "ax.set_xlabel('Price by product group')\n",
    "ax.set_ylabel('Product group')\n",
    "plt.show()"
   ]
  },
  {
   "cell_type": "markdown",
   "id": "187b2c0a",
   "metadata": {
    "papermill": {
     "duration": 0.077184,
     "end_time": "2022-02-14T14:33:31.435150",
     "exception": false,
     "start_time": "2022-02-14T14:33:31.357966",
     "status": "completed"
    },
    "tags": []
   },
   "source": [
    "**<span style=\"color:#023e8a;\"> Now check the mean price change in time for top 5 product groups by mean price: </span>**\n",
    ">`Shoes`  \n",
    ">`Garment Full body`  \n",
    ">`Bags`  \n",
    ">`Garment Lower body`  \n",
    ">`Underwear/nightwear`  "
   ]
  },
  {
   "cell_type": "code",
   "execution_count": null,
   "id": "feeb08eb",
   "metadata": {
    "execution": {
     "iopub.execute_input": "2022-02-14T14:33:31.591957Z",
     "iopub.status.busy": "2022-02-14T14:33:31.591011Z",
     "iopub.status.idle": "2022-02-14T14:33:40.429319Z",
     "shell.execute_reply": "2022-02-14T14:33:40.428713Z",
     "shell.execute_reply.started": "2022-02-10T17:00:32.686955Z"
    },
    "jupyter": {
     "source_hidden": true
    },
    "papermill": {
     "duration": 8.917179,
     "end_time": "2022-02-14T14:33:40.429458",
     "exception": false,
     "start_time": "2022-02-14T14:33:31.512279",
     "status": "completed"
    },
    "tags": []
   },
   "outputs": [],
   "source": [
    "articles_for_merge['t_dat'] = pd.to_datetime(articles_for_merge['t_dat'])"
   ]
  },
  {
   "cell_type": "code",
   "execution_count": null,
   "id": "e018e84c",
   "metadata": {
    "execution": {
     "iopub.execute_input": "2022-02-14T14:33:40.592438Z",
     "iopub.status.busy": "2022-02-14T14:33:40.591701Z",
     "iopub.status.idle": "2022-02-14T14:34:08.292372Z",
     "shell.execute_reply": "2022-02-14T14:34:08.292896Z",
     "shell.execute_reply.started": "2022-02-10T17:27:39.135036Z"
    },
    "jupyter": {
     "source_hidden": true
    },
    "papermill": {
     "duration": 27.787168,
     "end_time": "2022-02-14T14:34:08.293116",
     "exception": false,
     "start_time": "2022-02-14T14:33:40.505948",
     "status": "completed"
    },
    "tags": []
   },
   "outputs": [],
   "source": [
    "product_list = ['Shoes', 'Garment Full body', 'Bags', 'Garment Lower body', 'Underwear/nightwear']\n",
    "colors = ['cadetblue', 'orange', 'mediumspringgreen', 'tomato', 'lightseagreen']\n",
    "k = 0\n",
    "f, ax = plt.subplots(3, 2, figsize=(20, 15))\n",
    "for i in range(3):\n",
    "    for j in range(2):\n",
    "        try:\n",
    "            product = product_list[k]\n",
    "            articles_for_merge_product = articles_for_merge[articles_for_merge.product_group_name == product_list[k]]\n",
    "            series_mean = articles_for_merge_product[['t_dat', 'price']].groupby(pd.Grouper(key=\"t_dat\", freq='M')).mean().fillna(0)\n",
    "            series_std = articles_for_merge_product[['t_dat', 'price']].groupby(pd.Grouper(key=\"t_dat\", freq='M')).std().fillna(0)\n",
    "            ax[i, j].plot(series_mean, linewidth=4, color=colors[k])\n",
    "            ax[i, j].fill_between(series_mean.index, (series_mean.values-2*series_std.values).ravel(), \n",
    "                             (series_mean.values+2*series_std.values).ravel(), color=colors[k], alpha=.1)\n",
    "            ax[i, j].set_title(f'Mean {product_list[k]} price in time')\n",
    "            ax[i, j].set_xlabel('month')\n",
    "            ax[i, j].set_xlabel(f'{product_list[k]}')\n",
    "            k += 1\n",
    "        except IndexError:\n",
    "            ax[i, j].set_visible(False)\n",
    "plt.show()"
   ]
  },
  {
   "cell_type": "markdown",
   "id": "a891ce5e",
   "metadata": {
    "papermill": {
     "duration": 0.080716,
     "end_time": "2022-02-14T14:34:08.455259",
     "exception": false,
     "start_time": "2022-02-14T14:34:08.374543",
     "status": "completed"
    },
    "tags": []
   },
   "source": [
    "## **<span id=\"Images\" style=\"color:#023e8a;\">5. Images with description and price</span>**"
   ]
  },
  {
   "cell_type": "markdown",
   "id": "bb3ff17d",
   "metadata": {
    "papermill": {
     "duration": 0.080707,
     "end_time": "2022-02-14T14:34:08.617941",
     "exception": false,
     "start_time": "2022-02-14T14:34:08.537234",
     "status": "completed"
    },
    "tags": []
   },
   "source": [
    "[**<span style=\"color:#FEF1FE;background-color:#023e8a;border-radius: 5px;padding: 2px\">Go to Table of Content</span>**](#Content)"
   ]
  },
  {
   "cell_type": "markdown",
   "id": "ad89f262",
   "metadata": {
    "papermill": {
     "duration": 0.081006,
     "end_time": "2022-02-14T14:34:08.781761",
     "exception": false,
     "start_time": "2022-02-14T14:34:08.700755",
     "status": "completed"
    },
    "tags": []
   },
   "source": [
    "**<span style=\"color:#023e8a;\"> Let's check the last purchases by max price and by min price </span>**"
   ]
  },
  {
   "cell_type": "code",
   "execution_count": null,
   "id": "7502c45c",
   "metadata": {
    "execution": {
     "iopub.execute_input": "2022-02-14T14:34:08.954380Z",
     "iopub.status.busy": "2022-02-14T14:34:08.953592Z",
     "iopub.status.idle": "2022-02-14T14:34:08.957218Z",
     "shell.execute_reply": "2022-02-14T14:34:08.957930Z"
    },
    "papermill": {
     "duration": 0.095177,
     "end_time": "2022-02-14T14:34:08.958171",
     "exception": false,
     "start_time": "2022-02-14T14:34:08.862994",
     "status": "completed"
    },
    "tags": []
   },
   "outputs": [],
   "source": [
    "import matplotlib.pyplot as plt\n",
    "import matplotlib.image as mpimg"
   ]
  },
  {
   "cell_type": "code",
   "execution_count": null,
   "id": "d72070c5",
   "metadata": {
    "execution": {
     "iopub.execute_input": "2022-02-14T14:34:09.141891Z",
     "iopub.status.busy": "2022-02-14T14:34:09.141238Z",
     "iopub.status.idle": "2022-02-14T14:34:28.371184Z",
     "shell.execute_reply": "2022-02-14T14:34:28.370549Z",
     "shell.execute_reply.started": "2022-02-08T16:04:30.384434Z"
    },
    "papermill": {
     "duration": 19.31361,
     "end_time": "2022-02-14T14:34:28.371321",
     "exception": false,
     "start_time": "2022-02-14T14:34:09.057711",
     "status": "completed"
    },
    "tags": []
   },
   "outputs": [],
   "source": [
    "max_price_ids = transactions[transactions.t_dat==transactions.t_dat.max()].sort_values('price', ascending=False).iloc[:5][['article_id', 'price']]\n",
    "min_price_ids = transactions[transactions.t_dat==transactions.t_dat.min()].sort_values('price', ascending=True).iloc[:5][['article_id', 'price']]"
   ]
  },
  {
   "cell_type": "markdown",
   "id": "dd273824",
   "metadata": {
    "papermill": {
     "duration": 0.081745,
     "end_time": "2022-02-14T14:34:28.535141",
     "exception": false,
     "start_time": "2022-02-14T14:34:28.453396",
     "status": "completed"
    },
    "tags": []
   },
   "source": [
    "**<span style=\"color:#023e8a;\"> Photos with description and price (top 5 max) </span>**"
   ]
  },
  {
   "cell_type": "code",
   "execution_count": null,
   "id": "8edc85fe",
   "metadata": {
    "execution": {
     "iopub.execute_input": "2022-02-14T14:34:28.701999Z",
     "iopub.status.busy": "2022-02-14T14:34:28.701351Z",
     "iopub.status.idle": "2022-02-14T14:34:30.533205Z",
     "shell.execute_reply": "2022-02-14T14:34:30.533736Z",
     "shell.execute_reply.started": "2022-02-08T16:35:34.169275Z"
    },
    "jupyter": {
     "source_hidden": true
    },
    "papermill": {
     "duration": 1.916823,
     "end_time": "2022-02-14T14:34:30.533920",
     "exception": false,
     "start_time": "2022-02-14T14:34:28.617097",
     "status": "completed"
    },
    "tags": []
   },
   "outputs": [],
   "source": [
    "f, ax = plt.subplots(1, 5, figsize=(20,10))\n",
    "i = 0\n",
    "for _, data in max_price_ids.iterrows():\n",
    "    desc = articles[articles['article_id'] == data['article_id']]['detail_desc'].iloc[0]\n",
    "    desc_list = desc.split(' ')\n",
    "    for j, elem in enumerate(desc_list):\n",
    "        if j > 0 and j % 5 == 0:\n",
    "            desc_list[j] = desc_list[j] + '\\n'\n",
    "    desc = ' '.join(desc_list)\n",
    "    img = mpimg.imread(f'../input/h-and-m-personalized-fashion-recommendations/images/0{str(data.article_id)[:2]}/0{int(data.article_id)}.jpg')\n",
    "    ax[i].imshow(img)\n",
    "    ax[i].set_title(f'price: {data.price:.2f}')\n",
    "    ax[i].set_xticks([], [])\n",
    "    ax[i].set_yticks([], [])\n",
    "    ax[i].grid(False)\n",
    "    ax[i].set_xlabel(desc, fontsize=10)\n",
    "    i += 1\n",
    "plt.show()"
   ]
  },
  {
   "cell_type": "markdown",
   "id": "ec9fd2f9",
   "metadata": {
    "papermill": {
     "duration": 0.089779,
     "end_time": "2022-02-14T14:34:30.714593",
     "exception": false,
     "start_time": "2022-02-14T14:34:30.624814",
     "status": "completed"
    },
    "tags": []
   },
   "source": [
    "**<span style=\"color:#023e8a;\"> Photos with description and price (top 5 min) </span>**"
   ]
  },
  {
   "cell_type": "code",
   "execution_count": null,
   "id": "664dab2c",
   "metadata": {
    "execution": {
     "iopub.execute_input": "2022-02-14T14:34:30.900763Z",
     "iopub.status.busy": "2022-02-14T14:34:30.900069Z",
     "iopub.status.idle": "2022-02-14T14:34:32.640197Z",
     "shell.execute_reply": "2022-02-14T14:34:32.640729Z",
     "shell.execute_reply.started": "2022-02-08T16:35:45.764187Z"
    },
    "jupyter": {
     "source_hidden": true
    },
    "papermill": {
     "duration": 1.834816,
     "end_time": "2022-02-14T14:34:32.640918",
     "exception": false,
     "start_time": "2022-02-14T14:34:30.806102",
     "status": "completed"
    },
    "tags": []
   },
   "outputs": [],
   "source": [
    "f, ax = plt.subplots(1, 5, figsize=(20,10))\n",
    "i = 0\n",
    "for _, data in min_price_ids.iterrows():\n",
    "    desc = articles[articles['article_id'] == data['article_id']]['detail_desc'].iloc[0]\n",
    "    desc_list = desc.split(' ')\n",
    "    for j, elem in enumerate(desc_list):\n",
    "        if j > 0 and j % 4 == 0:\n",
    "            desc_list[j] = desc_list[j] + '\\n'\n",
    "    desc = ' '.join(desc_list)\n",
    "    img = mpimg.imread(f'../input/h-and-m-personalized-fashion-recommendations/images/0{str(data.article_id)[:2]}/0{int(data.article_id)}.jpg')\n",
    "    ax[i].imshow(img)\n",
    "    ax[i].set_title(f'price: {data.price:.4f}')\n",
    "    ax[i].set_xlabel(desc, fontsize=10)\n",
    "    ax[i].set_xticks([], [])\n",
    "    ax[i].set_yticks([], [])\n",
    "    ax[i].grid(False)\n",
    "    i += 1\n",
    "plt.axis('off')\n",
    "plt.show()"
   ]
  }
 ],
 "metadata": {
  "kernelspec": {
   "display_name": "Python 3",
   "language": "python",
   "name": "python3"
  },
  "language_info": {
   "codemirror_mode": {
    "name": "ipython",
    "version": 3
   },
   "file_extension": ".py",
   "mimetype": "text/x-python",
   "name": "python",
   "nbconvert_exporter": "python",
   "pygments_lexer": "ipython3",
   "version": "3.8.8"
  },
  "papermill": {
   "default_parameters": {},
   "duration": 266.50185,
   "end_time": "2022-02-14T14:34:35.149940",
   "environment_variables": {},
   "exception": null,
   "input_path": "__notebook__.ipynb",
   "output_path": "__notebook__.ipynb",
   "parameters": {},
   "start_time": "2022-02-14T14:30:08.648090",
   "version": "2.3.3"
  }
 },
 "nbformat": 4,
 "nbformat_minor": 5
}
